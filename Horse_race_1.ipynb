{
 "cells": [
  {
   "cell_type": "code",
   "execution_count": 1,
   "metadata": {},
   "outputs": [],
   "source": [
    "import pandas as pd\n",
    "import numpy as np\n",
    "import matplotlib.pyplot as plt\n",
    "import seaborn as sns"
   ]
  },
  {
   "cell_type": "markdown",
   "metadata": {},
   "source": [
    "#### The 5 parameters for the last race and the 5 parameters for the race before that and 5 parameters for race previous to that (i.e. last, second_last, third_last) for each horse"
   ]
  },
  {
   "cell_type": "code",
   "execution_count": 193,
   "metadata": {},
   "outputs": [],
   "source": [
    "runs_df = pd.read_csv(\"runs.csv\")\n",
    "races_df = pd.read_csv(\"races.csv\")"
   ]
  },
  {
   "cell_type": "code",
   "execution_count": 194,
   "metadata": {},
   "outputs": [
    {
     "data": {
      "text/html": [
       "<div>\n",
       "<style scoped>\n",
       "    .dataframe tbody tr th:only-of-type {\n",
       "        vertical-align: middle;\n",
       "    }\n",
       "\n",
       "    .dataframe tbody tr th {\n",
       "        vertical-align: top;\n",
       "    }\n",
       "\n",
       "    .dataframe thead th {\n",
       "        text-align: right;\n",
       "    }\n",
       "</style>\n",
       "<table border=\"1\" class=\"dataframe\">\n",
       "  <thead>\n",
       "    <tr style=\"text-align: right;\">\n",
       "      <th></th>\n",
       "      <th>race_id</th>\n",
       "      <th>horse_no</th>\n",
       "      <th>horse_id</th>\n",
       "      <th>result</th>\n",
       "      <th>won</th>\n",
       "      <th>lengths_behind</th>\n",
       "      <th>horse_age</th>\n",
       "      <th>horse_country</th>\n",
       "      <th>horse_type</th>\n",
       "      <th>horse_rating</th>\n",
       "      <th>...</th>\n",
       "      <th>time2</th>\n",
       "      <th>time3</th>\n",
       "      <th>time4</th>\n",
       "      <th>time5</th>\n",
       "      <th>time6</th>\n",
       "      <th>finish_time</th>\n",
       "      <th>win_odds</th>\n",
       "      <th>place_odds</th>\n",
       "      <th>trainer_id</th>\n",
       "      <th>jockey_id</th>\n",
       "    </tr>\n",
       "  </thead>\n",
       "  <tbody>\n",
       "    <tr>\n",
       "      <th>30837</th>\n",
       "      <td>2464</td>\n",
       "      <td>3</td>\n",
       "      <td>2572</td>\n",
       "      <td>8</td>\n",
       "      <td>0.0</td>\n",
       "      <td>3.00</td>\n",
       "      <td>3</td>\n",
       "      <td>AUS</td>\n",
       "      <td>Gelding</td>\n",
       "      <td>60</td>\n",
       "      <td>...</td>\n",
       "      <td>24.52</td>\n",
       "      <td>25.18</td>\n",
       "      <td>23.90</td>\n",
       "      <td>NaN</td>\n",
       "      <td>NaN</td>\n",
       "      <td>102.04</td>\n",
       "      <td>27.0</td>\n",
       "      <td>7.3</td>\n",
       "      <td>164</td>\n",
       "      <td>135</td>\n",
       "    </tr>\n",
       "    <tr>\n",
       "      <th>32269</th>\n",
       "      <td>2576</td>\n",
       "      <td>10</td>\n",
       "      <td>2160</td>\n",
       "      <td>11</td>\n",
       "      <td>0.0</td>\n",
       "      <td>5.25</td>\n",
       "      <td>3</td>\n",
       "      <td>IRE</td>\n",
       "      <td>Gelding</td>\n",
       "      <td>60</td>\n",
       "      <td>...</td>\n",
       "      <td>23.34</td>\n",
       "      <td>24.04</td>\n",
       "      <td>25.17</td>\n",
       "      <td>NaN</td>\n",
       "      <td>NaN</td>\n",
       "      <td>100.65</td>\n",
       "      <td>6.1</td>\n",
       "      <td>2.1</td>\n",
       "      <td>29</td>\n",
       "      <td>132</td>\n",
       "    </tr>\n",
       "    <tr>\n",
       "      <th>12186</th>\n",
       "      <td>972</td>\n",
       "      <td>10</td>\n",
       "      <td>1081</td>\n",
       "      <td>9</td>\n",
       "      <td>0.0</td>\n",
       "      <td>6.00</td>\n",
       "      <td>3</td>\n",
       "      <td>IRE</td>\n",
       "      <td>Gelding</td>\n",
       "      <td>60</td>\n",
       "      <td>...</td>\n",
       "      <td>22.62</td>\n",
       "      <td>24.07</td>\n",
       "      <td>24.83</td>\n",
       "      <td>25.06</td>\n",
       "      <td>NaN</td>\n",
       "      <td>110.80</td>\n",
       "      <td>19.0</td>\n",
       "      <td>5.4</td>\n",
       "      <td>80</td>\n",
       "      <td>64</td>\n",
       "    </tr>\n",
       "    <tr>\n",
       "      <th>18866</th>\n",
       "      <td>1505</td>\n",
       "      <td>7</td>\n",
       "      <td>2361</td>\n",
       "      <td>8</td>\n",
       "      <td>0.0</td>\n",
       "      <td>4.50</td>\n",
       "      <td>3</td>\n",
       "      <td>GB</td>\n",
       "      <td>Horse</td>\n",
       "      <td>60</td>\n",
       "      <td>...</td>\n",
       "      <td>23.31</td>\n",
       "      <td>22.56</td>\n",
       "      <td>NaN</td>\n",
       "      <td>NaN</td>\n",
       "      <td>NaN</td>\n",
       "      <td>70.65</td>\n",
       "      <td>71.0</td>\n",
       "      <td>16.0</td>\n",
       "      <td>69</td>\n",
       "      <td>34</td>\n",
       "    </tr>\n",
       "    <tr>\n",
       "      <th>44859</th>\n",
       "      <td>3581</td>\n",
       "      <td>9</td>\n",
       "      <td>2765</td>\n",
       "      <td>8</td>\n",
       "      <td>0.0</td>\n",
       "      <td>5.25</td>\n",
       "      <td>3</td>\n",
       "      <td>AUS</td>\n",
       "      <td>Gelding</td>\n",
       "      <td>60</td>\n",
       "      <td>...</td>\n",
       "      <td>21.28</td>\n",
       "      <td>22.87</td>\n",
       "      <td>NaN</td>\n",
       "      <td>NaN</td>\n",
       "      <td>NaN</td>\n",
       "      <td>58.01</td>\n",
       "      <td>99.0</td>\n",
       "      <td>21.0</td>\n",
       "      <td>55</td>\n",
       "      <td>18</td>\n",
       "    </tr>\n",
       "  </tbody>\n",
       "</table>\n",
       "<p>5 rows × 37 columns</p>\n",
       "</div>"
      ],
      "text/plain": [
       "       race_id  horse_no  horse_id  result  won  lengths_behind  horse_age  \\\n",
       "30837     2464         3      2572       8  0.0            3.00          3   \n",
       "32269     2576        10      2160      11  0.0            5.25          3   \n",
       "12186      972        10      1081       9  0.0            6.00          3   \n",
       "18866     1505         7      2361       8  0.0            4.50          3   \n",
       "44859     3581         9      2765       8  0.0            5.25          3   \n",
       "\n",
       "      horse_country horse_type  horse_rating  ...  time2  time3  time4  time5  \\\n",
       "30837           AUS    Gelding            60  ...  24.52  25.18  23.90    NaN   \n",
       "32269           IRE    Gelding            60  ...  23.34  24.04  25.17    NaN   \n",
       "12186           IRE    Gelding            60  ...  22.62  24.07  24.83  25.06   \n",
       "18866            GB      Horse            60  ...  23.31  22.56    NaN    NaN   \n",
       "44859           AUS    Gelding            60  ...  21.28  22.87    NaN    NaN   \n",
       "\n",
       "       time6  finish_time  win_odds  place_odds  trainer_id  jockey_id  \n",
       "30837    NaN       102.04      27.0         7.3         164        135  \n",
       "32269    NaN       100.65       6.1         2.1          29        132  \n",
       "12186    NaN       110.80      19.0         5.4          80         64  \n",
       "18866    NaN        70.65      71.0        16.0          69         34  \n",
       "44859    NaN        58.01      99.0        21.0          55         18  \n",
       "\n",
       "[5 rows x 37 columns]"
      ]
     },
     "execution_count": 194,
     "metadata": {},
     "output_type": "execute_result"
    }
   ],
   "source": [
    "runs_df.sample(5)"
   ]
  },
  {
   "cell_type": "code",
   "execution_count": 195,
   "metadata": {},
   "outputs": [
    {
     "data": {
      "text/html": [
       "<div>\n",
       "<style scoped>\n",
       "    .dataframe tbody tr th:only-of-type {\n",
       "        vertical-align: middle;\n",
       "    }\n",
       "\n",
       "    .dataframe tbody tr th {\n",
       "        vertical-align: top;\n",
       "    }\n",
       "\n",
       "    .dataframe thead th {\n",
       "        text-align: right;\n",
       "    }\n",
       "</style>\n",
       "<table border=\"1\" class=\"dataframe\">\n",
       "  <thead>\n",
       "    <tr style=\"text-align: right;\">\n",
       "      <th></th>\n",
       "      <th>race_id</th>\n",
       "      <th>date</th>\n",
       "      <th>venue</th>\n",
       "      <th>race_no</th>\n",
       "      <th>config</th>\n",
       "      <th>surface</th>\n",
       "      <th>distance</th>\n",
       "      <th>going</th>\n",
       "      <th>horse_ratings</th>\n",
       "      <th>prize</th>\n",
       "      <th>...</th>\n",
       "      <th>place_combination3</th>\n",
       "      <th>place_combination4</th>\n",
       "      <th>place_dividend1</th>\n",
       "      <th>place_dividend2</th>\n",
       "      <th>place_dividend3</th>\n",
       "      <th>place_dividend4</th>\n",
       "      <th>win_combination1</th>\n",
       "      <th>win_dividend1</th>\n",
       "      <th>win_combination2</th>\n",
       "      <th>win_dividend2</th>\n",
       "    </tr>\n",
       "  </thead>\n",
       "  <tbody>\n",
       "    <tr>\n",
       "      <th>1176</th>\n",
       "      <td>1176</td>\n",
       "      <td>1998-12-02</td>\n",
       "      <td>HV</td>\n",
       "      <td>4</td>\n",
       "      <td>B</td>\n",
       "      <td>0</td>\n",
       "      <td>1200</td>\n",
       "      <td>GOOD</td>\n",
       "      <td>60-40</td>\n",
       "      <td>625000.0</td>\n",
       "      <td>...</td>\n",
       "      <td>8.0</td>\n",
       "      <td>NaN</td>\n",
       "      <td>21.5</td>\n",
       "      <td>16.5</td>\n",
       "      <td>27.0</td>\n",
       "      <td>NaN</td>\n",
       "      <td>10</td>\n",
       "      <td>82.5</td>\n",
       "      <td>NaN</td>\n",
       "      <td>NaN</td>\n",
       "    </tr>\n",
       "    <tr>\n",
       "      <th>2686</th>\n",
       "      <td>2686</td>\n",
       "      <td>2000-11-19</td>\n",
       "      <td>ST</td>\n",
       "      <td>7</td>\n",
       "      <td>B+2</td>\n",
       "      <td>0</td>\n",
       "      <td>1400</td>\n",
       "      <td>GOOD</td>\n",
       "      <td>G</td>\n",
       "      <td>6000000.0</td>\n",
       "      <td>...</td>\n",
       "      <td>6.0</td>\n",
       "      <td>NaN</td>\n",
       "      <td>11.5</td>\n",
       "      <td>12.0</td>\n",
       "      <td>26.5</td>\n",
       "      <td>NaN</td>\n",
       "      <td>2</td>\n",
       "      <td>22.5</td>\n",
       "      <td>NaN</td>\n",
       "      <td>NaN</td>\n",
       "    </tr>\n",
       "    <tr>\n",
       "      <th>3511</th>\n",
       "      <td>3511</td>\n",
       "      <td>2001-12-17</td>\n",
       "      <td>ST</td>\n",
       "      <td>9</td>\n",
       "      <td>B+2</td>\n",
       "      <td>0</td>\n",
       "      <td>1200</td>\n",
       "      <td>GOOD</td>\n",
       "      <td>80-60</td>\n",
       "      <td>950000.0</td>\n",
       "      <td>...</td>\n",
       "      <td>12.0</td>\n",
       "      <td>NaN</td>\n",
       "      <td>27.5</td>\n",
       "      <td>15.0</td>\n",
       "      <td>13.5</td>\n",
       "      <td>NaN</td>\n",
       "      <td>5</td>\n",
       "      <td>91.0</td>\n",
       "      <td>NaN</td>\n",
       "      <td>NaN</td>\n",
       "    </tr>\n",
       "    <tr>\n",
       "      <th>6207</th>\n",
       "      <td>6207</td>\n",
       "      <td>2005-07-06</td>\n",
       "      <td>HV</td>\n",
       "      <td>5</td>\n",
       "      <td>C</td>\n",
       "      <td>0</td>\n",
       "      <td>1650</td>\n",
       "      <td>GOOD TO YIELDING</td>\n",
       "      <td>80-60</td>\n",
       "      <td>1235000.0</td>\n",
       "      <td>...</td>\n",
       "      <td>3.0</td>\n",
       "      <td>NaN</td>\n",
       "      <td>26.0</td>\n",
       "      <td>15.0</td>\n",
       "      <td>68.5</td>\n",
       "      <td>NaN</td>\n",
       "      <td>4</td>\n",
       "      <td>97.0</td>\n",
       "      <td>NaN</td>\n",
       "      <td>NaN</td>\n",
       "    </tr>\n",
       "    <tr>\n",
       "      <th>5930</th>\n",
       "      <td>5930</td>\n",
       "      <td>2005-01-19</td>\n",
       "      <td>HV</td>\n",
       "      <td>6</td>\n",
       "      <td>C+3</td>\n",
       "      <td>0</td>\n",
       "      <td>1000</td>\n",
       "      <td>GOOD</td>\n",
       "      <td>80-60</td>\n",
       "      <td>1165000.0</td>\n",
       "      <td>...</td>\n",
       "      <td>8.0</td>\n",
       "      <td>NaN</td>\n",
       "      <td>24.0</td>\n",
       "      <td>19.5</td>\n",
       "      <td>15.0</td>\n",
       "      <td>NaN</td>\n",
       "      <td>12</td>\n",
       "      <td>67.5</td>\n",
       "      <td>NaN</td>\n",
       "      <td>NaN</td>\n",
       "    </tr>\n",
       "  </tbody>\n",
       "</table>\n",
       "<p>5 rows × 37 columns</p>\n",
       "</div>"
      ],
      "text/plain": [
       "      race_id        date venue  race_no config  surface  distance  \\\n",
       "1176     1176  1998-12-02    HV        4      B        0      1200   \n",
       "2686     2686  2000-11-19    ST        7    B+2        0      1400   \n",
       "3511     3511  2001-12-17    ST        9    B+2        0      1200   \n",
       "6207     6207  2005-07-06    HV        5      C        0      1650   \n",
       "5930     5930  2005-01-19    HV        6    C+3        0      1000   \n",
       "\n",
       "                 going horse_ratings      prize  ...  place_combination3  \\\n",
       "1176              GOOD         60-40   625000.0  ...                 8.0   \n",
       "2686              GOOD             G  6000000.0  ...                 6.0   \n",
       "3511              GOOD         80-60   950000.0  ...                12.0   \n",
       "6207  GOOD TO YIELDING         80-60  1235000.0  ...                 3.0   \n",
       "5930              GOOD         80-60  1165000.0  ...                 8.0   \n",
       "\n",
       "      place_combination4  place_dividend1  place_dividend2  place_dividend3  \\\n",
       "1176                 NaN             21.5             16.5             27.0   \n",
       "2686                 NaN             11.5             12.0             26.5   \n",
       "3511                 NaN             27.5             15.0             13.5   \n",
       "6207                 NaN             26.0             15.0             68.5   \n",
       "5930                 NaN             24.0             19.5             15.0   \n",
       "\n",
       "      place_dividend4  win_combination1  win_dividend1  win_combination2  \\\n",
       "1176              NaN                10           82.5               NaN   \n",
       "2686              NaN                 2           22.5               NaN   \n",
       "3511              NaN                 5           91.0               NaN   \n",
       "6207              NaN                 4           97.0               NaN   \n",
       "5930              NaN                12           67.5               NaN   \n",
       "\n",
       "      win_dividend2  \n",
       "1176            NaN  \n",
       "2686            NaN  \n",
       "3511            NaN  \n",
       "6207            NaN  \n",
       "5930            NaN  \n",
       "\n",
       "[5 rows x 37 columns]"
      ]
     },
     "execution_count": 195,
     "metadata": {},
     "output_type": "execute_result"
    }
   ],
   "source": [
    "races_df.sample(5)"
   ]
  },
  {
   "cell_type": "code",
   "execution_count": 211,
   "metadata": {},
   "outputs": [],
   "source": [
    "horse = pd.merge(runs_df, races_df,on='race_id')"
   ]
  },
  {
   "cell_type": "code",
   "execution_count": 212,
   "metadata": {},
   "outputs": [
    {
     "data": {
      "text/plain": [
       "(79447, 37)"
      ]
     },
     "execution_count": 212,
     "metadata": {},
     "output_type": "execute_result"
    }
   ],
   "source": [
    "runs_df.shape"
   ]
  },
  {
   "cell_type": "code",
   "execution_count": 213,
   "metadata": {},
   "outputs": [
    {
     "data": {
      "text/plain": [
       "(6349, 37)"
      ]
     },
     "execution_count": 213,
     "metadata": {},
     "output_type": "execute_result"
    }
   ],
   "source": [
    "races_df.shape"
   ]
  },
  {
   "cell_type": "code",
   "execution_count": 214,
   "metadata": {},
   "outputs": [
    {
     "data": {
      "text/plain": [
       "(79447, 73)"
      ]
     },
     "execution_count": 214,
     "metadata": {},
     "output_type": "execute_result"
    }
   ],
   "source": [
    "horse.shape"
   ]
  },
  {
   "cell_type": "code",
   "execution_count": 215,
   "metadata": {},
   "outputs": [],
   "source": [
    "# Number of days between current race and last race(days_lastrace)\n",
    "\n",
    "horse.date = pd.to_datetime(horse.date)"
   ]
  },
  {
   "cell_type": "code",
   "execution_count": 216,
   "metadata": {},
   "outputs": [
    {
     "data": {
      "text/plain": [
       "0   1997-06-02\n",
       "1   1997-06-02\n",
       "2   1997-06-02\n",
       "3   1997-06-02\n",
       "4   1997-06-02\n",
       "Name: date, dtype: datetime64[ns]"
      ]
     },
     "execution_count": 216,
     "metadata": {},
     "output_type": "execute_result"
    }
   ],
   "source": [
    "horse['date'].head()"
   ]
  },
  {
   "cell_type": "code",
   "execution_count": 217,
   "metadata": {},
   "outputs": [
    {
     "data": {
      "text/plain": [
       "79442   2005-08-28\n",
       "79443   2005-08-28\n",
       "79444   2005-08-28\n",
       "79445   2005-08-28\n",
       "79446   2005-08-28\n",
       "Name: date, dtype: datetime64[ns]"
      ]
     },
     "execution_count": 217,
     "metadata": {},
     "output_type": "execute_result"
    }
   ],
   "source": [
    "horse['date'].tail()"
   ]
  },
  {
   "cell_type": "code",
   "execution_count": 218,
   "metadata": {},
   "outputs": [],
   "source": [
    "unique_horses = horse.horse_id.unique()\n",
    "unique_horses = list(unique_horses)"
   ]
  },
  {
   "cell_type": "code",
   "execution_count": 219,
   "metadata": {},
   "outputs": [],
   "source": [
    "last_race = pd.DataFrame()\n",
    "second_last_race = pd.DataFrame()\n",
    "third_last_race = pd.DataFrame()"
   ]
  },
  {
   "cell_type": "markdown",
   "metadata": {},
   "source": [
    "# For the Last race\n",
    "+ created new dataframe named 'last_race' with race details for all horses"
   ]
  },
  {
   "cell_type": "code",
   "execution_count": null,
   "metadata": {},
   "outputs": [],
   "source": []
  },
  {
   "cell_type": "code",
   "execution_count": 273,
   "metadata": {},
   "outputs": [
    {
     "data": {
      "text/plain": [
       "19168   NaT\n",
       "20419   NaT\n",
       "Name: date, dtype: timedelta64[ns]"
      ]
     },
     "execution_count": 273,
     "metadata": {},
     "output_type": "execute_result"
    }
   ],
   "source": [
    "horse[horse['horse_id'] == 3917].iloc[-1:,:]['date'] - horse[horse['horse_id'] == 3917].iloc[-2:-1,:]['date']"
   ]
  },
  {
   "cell_type": "markdown",
   "metadata": {},
   "source": [
    "###### "
   ]
  },
  {
   "cell_type": "code",
   "execution_count": 271,
   "metadata": {},
   "outputs": [
    {
     "ename": "TypeError",
     "evalue": "unsupported operand type(s) for -: 'DatetimeProperties' and 'DatetimeProperties'",
     "output_type": "error",
     "traceback": [
      "\u001b[1;31m---------------------------------------------------------------------------\u001b[0m",
      "\u001b[1;31mTypeError\u001b[0m                                 Traceback (most recent call last)",
      "\u001b[1;32m<ipython-input-271-8eb0638e63d2>\u001b[0m in \u001b[0;36m<module>\u001b[1;34m\u001b[0m\n\u001b[1;32m----> 1\u001b[1;33m \u001b[0mhorse\u001b[0m\u001b[1;33m[\u001b[0m\u001b[0mhorse\u001b[0m\u001b[1;33m[\u001b[0m\u001b[1;34m'horse_id'\u001b[0m\u001b[1;33m]\u001b[0m \u001b[1;33m==\u001b[0m \u001b[1;36m3917\u001b[0m\u001b[1;33m]\u001b[0m\u001b[1;33m.\u001b[0m\u001b[0miloc\u001b[0m\u001b[1;33m[\u001b[0m\u001b[1;33m-\u001b[0m\u001b[1;36m1\u001b[0m\u001b[1;33m:\u001b[0m\u001b[1;33m,\u001b[0m\u001b[1;33m:\u001b[0m\u001b[1;33m]\u001b[0m\u001b[1;33m[\u001b[0m\u001b[1;34m'date'\u001b[0m\u001b[1;33m]\u001b[0m\u001b[1;33m.\u001b[0m\u001b[0mdt\u001b[0m \u001b[1;33m-\u001b[0m \u001b[0mhorse\u001b[0m\u001b[1;33m[\u001b[0m\u001b[0mhorse\u001b[0m\u001b[1;33m[\u001b[0m\u001b[1;34m'horse_id'\u001b[0m\u001b[1;33m]\u001b[0m \u001b[1;33m==\u001b[0m \u001b[1;36m3917\u001b[0m\u001b[1;33m]\u001b[0m\u001b[1;33m.\u001b[0m\u001b[0miloc\u001b[0m\u001b[1;33m[\u001b[0m\u001b[1;33m-\u001b[0m\u001b[1;36m2\u001b[0m\u001b[1;33m:\u001b[0m\u001b[1;33m-\u001b[0m\u001b[1;36m1\u001b[0m\u001b[1;33m,\u001b[0m\u001b[1;33m:\u001b[0m\u001b[1;33m]\u001b[0m\u001b[1;33m[\u001b[0m\u001b[1;34m'date'\u001b[0m\u001b[1;33m]\u001b[0m\u001b[1;33m.\u001b[0m\u001b[0mdt\u001b[0m\u001b[1;33m\u001b[0m\u001b[1;33m\u001b[0m\u001b[0m\n\u001b[0m",
      "\u001b[1;31mTypeError\u001b[0m: unsupported operand type(s) for -: 'DatetimeProperties' and 'DatetimeProperties'"
     ]
    }
   ],
   "source": [
    "horse[horse['horse_id'] == 3917].iloc[-1:,:]['date'].dt - horse[horse['horse_id'] == 3917].iloc[-2:-1,:]['date'].dt"
   ]
  },
  {
   "cell_type": "code",
   "execution_count": 253,
   "metadata": {},
   "outputs": [],
   "source": [
    "d2 = horse[horse['horse_id'] == 3917].iloc[-2:-1,:]['date']"
   ]
  },
  {
   "cell_type": "code",
   "execution_count": 255,
   "metadata": {},
   "outputs": [
    {
     "ename": "AttributeError",
     "evalue": "'Series' object has no attribute 'days'",
     "output_type": "error",
     "traceback": [
      "\u001b[1;31m---------------------------------------------------------------------------\u001b[0m",
      "\u001b[1;31mAttributeError\u001b[0m                            Traceback (most recent call last)",
      "\u001b[1;32m<ipython-input-255-0fbbcf2d71e0>\u001b[0m in \u001b[0;36m<module>\u001b[1;34m\u001b[0m\n\u001b[1;32m----> 1\u001b[1;33m \u001b[1;33m(\u001b[0m\u001b[0mhorse\u001b[0m\u001b[1;33m[\u001b[0m\u001b[0mhorse\u001b[0m\u001b[1;33m[\u001b[0m\u001b[1;34m'horse_id'\u001b[0m\u001b[1;33m]\u001b[0m \u001b[1;33m==\u001b[0m \u001b[1;36m3917\u001b[0m\u001b[1;33m]\u001b[0m\u001b[1;33m.\u001b[0m\u001b[0miloc\u001b[0m\u001b[1;33m[\u001b[0m\u001b[1;33m-\u001b[0m\u001b[1;36m1\u001b[0m\u001b[1;33m:\u001b[0m\u001b[1;33m,\u001b[0m\u001b[1;33m:\u001b[0m\u001b[1;33m]\u001b[0m\u001b[1;33m[\u001b[0m\u001b[1;34m'date'\u001b[0m\u001b[1;33m]\u001b[0m \u001b[1;33m-\u001b[0m  \u001b[0mhorse\u001b[0m\u001b[1;33m[\u001b[0m\u001b[0mhorse\u001b[0m\u001b[1;33m[\u001b[0m\u001b[1;34m'horse_id'\u001b[0m\u001b[1;33m]\u001b[0m \u001b[1;33m==\u001b[0m \u001b[1;36m3917\u001b[0m\u001b[1;33m]\u001b[0m\u001b[1;33m.\u001b[0m\u001b[0miloc\u001b[0m\u001b[1;33m[\u001b[0m\u001b[1;33m-\u001b[0m\u001b[1;36m2\u001b[0m\u001b[1;33m:\u001b[0m\u001b[1;33m-\u001b[0m\u001b[1;36m1\u001b[0m\u001b[1;33m,\u001b[0m\u001b[1;33m:\u001b[0m\u001b[1;33m]\u001b[0m\u001b[1;33m[\u001b[0m\u001b[1;34m'date'\u001b[0m\u001b[1;33m]\u001b[0m\u001b[1;33m)\u001b[0m\u001b[1;33m.\u001b[0m\u001b[0mdays\u001b[0m\u001b[1;33m\u001b[0m\u001b[1;33m\u001b[0m\u001b[0m\n\u001b[0m",
      "\u001b[1;32m~\\Anaconda3\\lib\\site-packages\\pandas\\core\\generic.py\u001b[0m in \u001b[0;36m__getattr__\u001b[1;34m(self, name)\u001b[0m\n\u001b[0;32m   5065\u001b[0m             \u001b[1;32mif\u001b[0m \u001b[0mself\u001b[0m\u001b[1;33m.\u001b[0m\u001b[0m_info_axis\u001b[0m\u001b[1;33m.\u001b[0m\u001b[0m_can_hold_identifiers_and_holds_name\u001b[0m\u001b[1;33m(\u001b[0m\u001b[0mname\u001b[0m\u001b[1;33m)\u001b[0m\u001b[1;33m:\u001b[0m\u001b[1;33m\u001b[0m\u001b[1;33m\u001b[0m\u001b[0m\n\u001b[0;32m   5066\u001b[0m                 \u001b[1;32mreturn\u001b[0m \u001b[0mself\u001b[0m\u001b[1;33m[\u001b[0m\u001b[0mname\u001b[0m\u001b[1;33m]\u001b[0m\u001b[1;33m\u001b[0m\u001b[1;33m\u001b[0m\u001b[0m\n\u001b[1;32m-> 5067\u001b[1;33m             \u001b[1;32mreturn\u001b[0m \u001b[0mobject\u001b[0m\u001b[1;33m.\u001b[0m\u001b[0m__getattribute__\u001b[0m\u001b[1;33m(\u001b[0m\u001b[0mself\u001b[0m\u001b[1;33m,\u001b[0m \u001b[0mname\u001b[0m\u001b[1;33m)\u001b[0m\u001b[1;33m\u001b[0m\u001b[1;33m\u001b[0m\u001b[0m\n\u001b[0m\u001b[0;32m   5068\u001b[0m \u001b[1;33m\u001b[0m\u001b[0m\n\u001b[0;32m   5069\u001b[0m     \u001b[1;32mdef\u001b[0m \u001b[0m__setattr__\u001b[0m\u001b[1;33m(\u001b[0m\u001b[0mself\u001b[0m\u001b[1;33m,\u001b[0m \u001b[0mname\u001b[0m\u001b[1;33m,\u001b[0m \u001b[0mvalue\u001b[0m\u001b[1;33m)\u001b[0m\u001b[1;33m:\u001b[0m\u001b[1;33m\u001b[0m\u001b[1;33m\u001b[0m\u001b[0m\n",
      "\u001b[1;31mAttributeError\u001b[0m: 'Series' object has no attribute 'days'"
     ]
    }
   ],
   "source": [
    "(horse[horse['horse_id'] == 3917].iloc[-1:,:]['date'] -  horse[horse['horse_id'] == 3917].iloc[-2:-1,:]['date']).days"
   ]
  },
  {
   "cell_type": "code",
   "execution_count": 241,
   "metadata": {},
   "outputs": [
    {
     "data": {
      "text/plain": [
       "19168   NaT\n",
       "20419   NaT\n",
       "Name: date, dtype: timedelta64[ns]"
      ]
     },
     "execution_count": 241,
     "metadata": {},
     "output_type": "execute_result"
    }
   ],
   "source": [
    "horse[horse['horse_id'] == 3917].iloc[-1:,:]['date'] - horse[horse['horse_id'] == 3917].iloc[-2:-1,:]['date']"
   ]
  },
  {
   "cell_type": "code",
   "execution_count": 220,
   "metadata": {},
   "outputs": [],
   "source": [
    "for i in unique_horses:\n",
    "    last_race = last_race.append(horse[horse['horse_id'] == i].iloc[-1:,:])"
   ]
  },
  {
   "cell_type": "code",
   "execution_count": 227,
   "metadata": {},
   "outputs": [
    {
     "data": {
      "text/plain": [
       "20419   1999-07-28\n",
       "Name: date, dtype: datetime64[ns]"
      ]
     },
     "execution_count": 227,
     "metadata": {},
     "output_type": "execute_result"
    }
   ],
   "source": [
    "last_race[last_race['horse_id'] == 3917]['date']"
   ]
  },
  {
   "cell_type": "markdown",
   "metadata": {},
   "source": [
    "# For the second Last race\n",
    "+ created new dataframe named 'second_last_race' with race details for all horses"
   ]
  },
  {
   "cell_type": "code",
   "execution_count": 133,
   "metadata": {},
   "outputs": [],
   "source": [
    "for i in unique_horses:\n",
    "    second_last_race = second_last_race.append(horse[horse['horse_id'] == i].iloc[-2:-1,:])"
   ]
  },
  {
   "cell_type": "markdown",
   "metadata": {},
   "source": [
    "# For the third Last race\n",
    "+ created new dataframe named 'third_last_race' with race details for all horses"
   ]
  },
  {
   "cell_type": "code",
   "execution_count": 134,
   "metadata": {},
   "outputs": [],
   "source": [
    "for i in unique_horses:\n",
    "    third_last_race = third_last_race.append(horse[horse['horse_id'] == i].iloc[-3:-2,:])"
   ]
  },
  {
   "cell_type": "code",
   "execution_count": 135,
   "metadata": {},
   "outputs": [
    {
     "data": {
      "text/plain": [
       "(4405, 73)"
      ]
     },
     "execution_count": 135,
     "metadata": {},
     "output_type": "execute_result"
    }
   ],
   "source": [
    "last_race.shape"
   ]
  },
  {
   "cell_type": "code",
   "execution_count": 136,
   "metadata": {},
   "outputs": [
    {
     "data": {
      "text/plain": [
       "(4023, 73)"
      ]
     },
     "execution_count": 136,
     "metadata": {},
     "output_type": "execute_result"
    }
   ],
   "source": [
    "second_last_race.shape"
   ]
  },
  {
   "cell_type": "markdown",
   "metadata": {},
   "source": [
    "*From the above observation we can say that there 382 horse who have participated in only one race.*"
   ]
  },
  {
   "cell_type": "code",
   "execution_count": 137,
   "metadata": {},
   "outputs": [
    {
     "data": {
      "text/plain": [
       "(3823, 73)"
      ]
     },
     "execution_count": 137,
     "metadata": {},
     "output_type": "execute_result"
    }
   ],
   "source": [
    "third_last_race.shape"
   ]
  },
  {
   "cell_type": "markdown",
   "metadata": {},
   "source": [
    "### Adding required 5 parameter for last race for each horse"
   ]
  },
  {
   "cell_type": "code",
   "execution_count": 187,
   "metadata": {},
   "outputs": [
    {
     "data": {
      "text/plain": [
       "0       1997-06-02\n",
       "1       1997-06-02\n",
       "2       1997-06-02\n",
       "3       1997-06-02\n",
       "4       1997-06-02\n",
       "5       1997-06-02\n",
       "6       1997-06-02\n",
       "7       1997-06-02\n",
       "8       1997-06-02\n",
       "9       1997-06-02\n",
       "10      1997-06-02\n",
       "11      1997-06-02\n",
       "12      1997-06-02\n",
       "13      1997-06-02\n",
       "14      1997-06-02\n",
       "15      1997-06-02\n",
       "16      1997-06-02\n",
       "17      1997-06-02\n",
       "18      1997-06-02\n",
       "19      1997-06-02\n",
       "20      1997-06-02\n",
       "21      1997-06-02\n",
       "22      1997-06-02\n",
       "23      1997-06-02\n",
       "24      1997-06-02\n",
       "25      1997-06-02\n",
       "26      1997-06-02\n",
       "27      1997-06-02\n",
       "28      1997-06-02\n",
       "29      1997-06-02\n",
       "           ...    \n",
       "79417   2005-08-28\n",
       "79418   2005-08-28\n",
       "79419   2005-08-28\n",
       "79420   2005-08-28\n",
       "79421   2005-08-28\n",
       "79422   2005-08-28\n",
       "79423   2005-08-28\n",
       "79424   2005-08-28\n",
       "79425   2005-08-28\n",
       "79426   2005-08-28\n",
       "79427   2005-08-28\n",
       "79428   2005-08-28\n",
       "79429   2005-08-28\n",
       "79430   2005-08-28\n",
       "79431   2005-08-28\n",
       "79432   2005-08-28\n",
       "79433   2005-08-28\n",
       "79434   2005-08-28\n",
       "79435   2005-08-28\n",
       "79436   2005-08-28\n",
       "79437   2005-08-28\n",
       "79438   2005-08-28\n",
       "79439   2005-08-28\n",
       "79440   2005-08-28\n",
       "79441   2005-08-28\n",
       "79442   2005-08-28\n",
       "79443   2005-08-28\n",
       "79444   2005-08-28\n",
       "79445   2005-08-28\n",
       "79446   2005-08-28\n",
       "Name: date, Length: 79447, dtype: datetime64[ns]"
      ]
     },
     "execution_count": 187,
     "metadata": {},
     "output_type": "execute_result"
    }
   ],
   "source": [
    "horse.date"
   ]
  },
  {
   "cell_type": "code",
   "execution_count": null,
   "metadata": {},
   "outputs": [],
   "source": []
  },
  {
   "cell_type": "code",
   "execution_count": null,
   "metadata": {},
   "outputs": [],
   "source": []
  },
  {
   "cell_type": "code",
   "execution_count": null,
   "metadata": {},
   "outputs": [],
   "source": []
  },
  {
   "cell_type": "code",
   "execution_count": 157,
   "metadata": {},
   "outputs": [],
   "source": [
    "final_df = pd.DataFrame()"
   ]
  },
  {
   "cell_type": "code",
   "execution_count": 158,
   "metadata": {},
   "outputs": [],
   "source": [
    "final_df[['race_id','horse_id','horse_age','date','finish_position','class','condition','length_behind','finish_time']] = last_race[['race_id',\\\n",
    "                 'horse_id','horse_age','date','result','race_class','config','lengths_behind','finish_time']]"
   ]
  },
  {
   "cell_type": "code",
   "execution_count": 159,
   "metadata": {},
   "outputs": [
    {
     "data": {
      "text/html": [
       "<div>\n",
       "<style scoped>\n",
       "    .dataframe tbody tr th:only-of-type {\n",
       "        vertical-align: middle;\n",
       "    }\n",
       "\n",
       "    .dataframe tbody tr th {\n",
       "        vertical-align: top;\n",
       "    }\n",
       "\n",
       "    .dataframe thead th {\n",
       "        text-align: right;\n",
       "    }\n",
       "</style>\n",
       "<table border=\"1\" class=\"dataframe\">\n",
       "  <thead>\n",
       "    <tr style=\"text-align: right;\">\n",
       "      <th></th>\n",
       "      <th>race_id</th>\n",
       "      <th>horse_id</th>\n",
       "      <th>horse_age</th>\n",
       "      <th>date</th>\n",
       "      <th>finish_position</th>\n",
       "      <th>class</th>\n",
       "      <th>condition</th>\n",
       "      <th>length_behind</th>\n",
       "      <th>finish_time</th>\n",
       "    </tr>\n",
       "  </thead>\n",
       "  <tbody>\n",
       "    <tr>\n",
       "      <th>20419</th>\n",
       "      <td>1629</td>\n",
       "      <td>3917</td>\n",
       "      <td>3</td>\n",
       "      <td>1999-07-28</td>\n",
       "      <td>12</td>\n",
       "      <td>5</td>\n",
       "      <td>B</td>\n",
       "      <td>14.75</td>\n",
       "      <td>140.21</td>\n",
       "    </tr>\n",
       "    <tr>\n",
       "      <th>21880</th>\n",
       "      <td>1745</td>\n",
       "      <td>2157</td>\n",
       "      <td>3</td>\n",
       "      <td>1999-09-13</td>\n",
       "      <td>8</td>\n",
       "      <td>5</td>\n",
       "      <td>A+3</td>\n",
       "      <td>11.50</td>\n",
       "      <td>111.83</td>\n",
       "    </tr>\n",
       "    <tr>\n",
       "      <th>14961</th>\n",
       "      <td>1191</td>\n",
       "      <td>858</td>\n",
       "      <td>3</td>\n",
       "      <td>1998-12-09</td>\n",
       "      <td>9</td>\n",
       "      <td>5</td>\n",
       "      <td>A</td>\n",
       "      <td>12.50</td>\n",
       "      <td>72.04</td>\n",
       "    </tr>\n",
       "    <tr>\n",
       "      <th>3709</th>\n",
       "      <td>295</td>\n",
       "      <td>1853</td>\n",
       "      <td>3</td>\n",
       "      <td>1997-09-27</td>\n",
       "      <td>14</td>\n",
       "      <td>5</td>\n",
       "      <td>A</td>\n",
       "      <td>12.25</td>\n",
       "      <td>112.29</td>\n",
       "    </tr>\n",
       "    <tr>\n",
       "      <th>9895</th>\n",
       "      <td>791</td>\n",
       "      <td>2796</td>\n",
       "      <td>3</td>\n",
       "      <td>1998-06-24</td>\n",
       "      <td>3</td>\n",
       "      <td>5</td>\n",
       "      <td>A</td>\n",
       "      <td>2.25</td>\n",
       "      <td>101.70</td>\n",
       "    </tr>\n",
       "  </tbody>\n",
       "</table>\n",
       "</div>"
      ],
      "text/plain": [
       "       race_id  horse_id  horse_age       date  finish_position  class  \\\n",
       "20419     1629      3917          3 1999-07-28               12      5   \n",
       "21880     1745      2157          3 1999-09-13                8      5   \n",
       "14961     1191       858          3 1998-12-09                9      5   \n",
       "3709       295      1853          3 1997-09-27               14      5   \n",
       "9895       791      2796          3 1998-06-24                3      5   \n",
       "\n",
       "      condition  length_behind  finish_time  \n",
       "20419         B          14.75       140.21  \n",
       "21880       A+3          11.50       111.83  \n",
       "14961         A          12.50        72.04  \n",
       "3709          A          12.25       112.29  \n",
       "9895          A           2.25       101.70  "
      ]
     },
     "execution_count": 159,
     "metadata": {},
     "output_type": "execute_result"
    }
   ],
   "source": [
    "final_df.head()"
   ]
  },
  {
   "cell_type": "code",
   "execution_count": 160,
   "metadata": {},
   "outputs": [
    {
     "data": {
      "text/plain": [
       "(4405, 9)"
      ]
     },
     "execution_count": 160,
     "metadata": {},
     "output_type": "execute_result"
    }
   ],
   "source": [
    "final_df.shape"
   ]
  },
  {
   "cell_type": "markdown",
   "metadata": {},
   "source": [
    "### Adding required 5 parameter for second last race for each horse"
   ]
  },
  {
   "cell_type": "code",
   "execution_count": null,
   "metadata": {},
   "outputs": [],
   "source": []
  },
  {
   "cell_type": "code",
   "execution_count": null,
   "metadata": {},
   "outputs": [],
   "source": []
  },
  {
   "cell_type": "code",
   "execution_count": null,
   "metadata": {},
   "outputs": [],
   "source": []
  },
  {
   "cell_type": "code",
   "execution_count": null,
   "metadata": {},
   "outputs": [],
   "source": []
  },
  {
   "cell_type": "code",
   "execution_count": 161,
   "metadata": {},
   "outputs": [],
   "source": [
    "final_df1 = pd.DataFrame()"
   ]
  },
  {
   "cell_type": "code",
   "execution_count": 163,
   "metadata": {},
   "outputs": [],
   "source": [
    "final_df1[['race_id1','horse_id','date1','finish_position1','class1','condition1','length_behind1','finish_time1']] = second_last_race[\\\n",
    "            ['race_id','horse_id','date','result','race_class','config','lengths_behind','finish_time']]"
   ]
  },
  {
   "cell_type": "code",
   "execution_count": 164,
   "metadata": {},
   "outputs": [
    {
     "data": {
      "text/html": [
       "<div>\n",
       "<style scoped>\n",
       "    .dataframe tbody tr th:only-of-type {\n",
       "        vertical-align: middle;\n",
       "    }\n",
       "\n",
       "    .dataframe tbody tr th {\n",
       "        vertical-align: top;\n",
       "    }\n",
       "\n",
       "    .dataframe thead th {\n",
       "        text-align: right;\n",
       "    }\n",
       "</style>\n",
       "<table border=\"1\" class=\"dataframe\">\n",
       "  <thead>\n",
       "    <tr style=\"text-align: right;\">\n",
       "      <th></th>\n",
       "      <th>race_id1</th>\n",
       "      <th>horse_id</th>\n",
       "      <th>date1</th>\n",
       "      <th>finish_position1</th>\n",
       "      <th>class1</th>\n",
       "      <th>condition1</th>\n",
       "      <th>length_behind1</th>\n",
       "      <th>finish_time1</th>\n",
       "    </tr>\n",
       "  </thead>\n",
       "  <tbody>\n",
       "    <tr>\n",
       "      <th>19168</th>\n",
       "      <td>1530</td>\n",
       "      <td>3917</td>\n",
       "      <td>1999-06-13</td>\n",
       "      <td>7</td>\n",
       "      <td>5</td>\n",
       "      <td>B+2</td>\n",
       "      <td>6.25</td>\n",
       "      <td>109.60</td>\n",
       "    </tr>\n",
       "    <tr>\n",
       "      <th>21550</th>\n",
       "      <td>1719</td>\n",
       "      <td>2157</td>\n",
       "      <td>1999-09-01</td>\n",
       "      <td>9</td>\n",
       "      <td>5</td>\n",
       "      <td>C</td>\n",
       "      <td>5.75</td>\n",
       "      <td>103.96</td>\n",
       "    </tr>\n",
       "    <tr>\n",
       "      <th>13708</th>\n",
       "      <td>1091</td>\n",
       "      <td>858</td>\n",
       "      <td>1998-10-25</td>\n",
       "      <td>11</td>\n",
       "      <td>4</td>\n",
       "      <td>C</td>\n",
       "      <td>5.25</td>\n",
       "      <td>86.39</td>\n",
       "    </tr>\n",
       "    <tr>\n",
       "      <th>3170</th>\n",
       "      <td>253</td>\n",
       "      <td>1853</td>\n",
       "      <td>1997-09-14</td>\n",
       "      <td>11</td>\n",
       "      <td>5</td>\n",
       "      <td>A+3</td>\n",
       "      <td>5.50</td>\n",
       "      <td>71.48</td>\n",
       "    </tr>\n",
       "    <tr>\n",
       "      <th>9200</th>\n",
       "      <td>735</td>\n",
       "      <td>2796</td>\n",
       "      <td>1998-06-03</td>\n",
       "      <td>2</td>\n",
       "      <td>5</td>\n",
       "      <td>A</td>\n",
       "      <td>0.25</td>\n",
       "      <td>100.84</td>\n",
       "    </tr>\n",
       "  </tbody>\n",
       "</table>\n",
       "</div>"
      ],
      "text/plain": [
       "       race_id1  horse_id      date1  finish_position1  class1 condition1  \\\n",
       "19168      1530      3917 1999-06-13                 7       5        B+2   \n",
       "21550      1719      2157 1999-09-01                 9       5          C   \n",
       "13708      1091       858 1998-10-25                11       4          C   \n",
       "3170        253      1853 1997-09-14                11       5        A+3   \n",
       "9200        735      2796 1998-06-03                 2       5          A   \n",
       "\n",
       "       length_behind1  finish_time1  \n",
       "19168            6.25        109.60  \n",
       "21550            5.75        103.96  \n",
       "13708            5.25         86.39  \n",
       "3170             5.50         71.48  \n",
       "9200             0.25        100.84  "
      ]
     },
     "execution_count": 164,
     "metadata": {},
     "output_type": "execute_result"
    }
   ],
   "source": [
    "final_df1.head()"
   ]
  },
  {
   "cell_type": "code",
   "execution_count": 165,
   "metadata": {},
   "outputs": [
    {
     "data": {
      "text/plain": [
       "(4023, 8)"
      ]
     },
     "execution_count": 165,
     "metadata": {},
     "output_type": "execute_result"
    }
   ],
   "source": [
    "final_df1.shape"
   ]
  },
  {
   "cell_type": "markdown",
   "metadata": {},
   "source": [
    "### Adding required 5 parameter for third last race for each horse"
   ]
  },
  {
   "cell_type": "code",
   "execution_count": null,
   "metadata": {},
   "outputs": [],
   "source": []
  },
  {
   "cell_type": "code",
   "execution_count": null,
   "metadata": {},
   "outputs": [],
   "source": []
  },
  {
   "cell_type": "code",
   "execution_count": null,
   "metadata": {},
   "outputs": [],
   "source": []
  },
  {
   "cell_type": "code",
   "execution_count": null,
   "metadata": {},
   "outputs": [],
   "source": []
  },
  {
   "cell_type": "code",
   "execution_count": 166,
   "metadata": {},
   "outputs": [],
   "source": [
    "final_df2 = pd.DataFrame()"
   ]
  },
  {
   "cell_type": "code",
   "execution_count": 168,
   "metadata": {},
   "outputs": [],
   "source": [
    "final_df2[['race_id2','horse_id','date2','finish_position2','class2','condition2','length_behind2','finish_time2']] = third_last_race[\\\n",
    "                        ['race_id','horse_id','date','result','race_class','config','lengths_behind','finish_time']]"
   ]
  },
  {
   "cell_type": "code",
   "execution_count": 169,
   "metadata": {},
   "outputs": [
    {
     "data": {
      "text/html": [
       "<div>\n",
       "<style scoped>\n",
       "    .dataframe tbody tr th:only-of-type {\n",
       "        vertical-align: middle;\n",
       "    }\n",
       "\n",
       "    .dataframe tbody tr th {\n",
       "        vertical-align: top;\n",
       "    }\n",
       "\n",
       "    .dataframe thead th {\n",
       "        text-align: right;\n",
       "    }\n",
       "</style>\n",
       "<table border=\"1\" class=\"dataframe\">\n",
       "  <thead>\n",
       "    <tr style=\"text-align: right;\">\n",
       "      <th></th>\n",
       "      <th>race_id2</th>\n",
       "      <th>horse_id</th>\n",
       "      <th>date2</th>\n",
       "      <th>finish_position2</th>\n",
       "      <th>class2</th>\n",
       "      <th>condition2</th>\n",
       "      <th>length_behind2</th>\n",
       "      <th>finish_time2</th>\n",
       "    </tr>\n",
       "  </thead>\n",
       "  <tbody>\n",
       "    <tr>\n",
       "      <th>18728</th>\n",
       "      <td>1492</td>\n",
       "      <td>3917</td>\n",
       "      <td>1999-05-30</td>\n",
       "      <td>8</td>\n",
       "      <td>5</td>\n",
       "      <td>C+3</td>\n",
       "      <td>7.50</td>\n",
       "      <td>97.89</td>\n",
       "    </tr>\n",
       "    <tr>\n",
       "      <th>20414</th>\n",
       "      <td>1629</td>\n",
       "      <td>2157</td>\n",
       "      <td>1999-07-28</td>\n",
       "      <td>11</td>\n",
       "      <td>5</td>\n",
       "      <td>B</td>\n",
       "      <td>14.50</td>\n",
       "      <td>140.20</td>\n",
       "    </tr>\n",
       "    <tr>\n",
       "      <th>12543</th>\n",
       "      <td>999</td>\n",
       "      <td>858</td>\n",
       "      <td>1998-09-18</td>\n",
       "      <td>4</td>\n",
       "      <td>4</td>\n",
       "      <td>B+2</td>\n",
       "      <td>2.50</td>\n",
       "      <td>70.54</td>\n",
       "    </tr>\n",
       "    <tr>\n",
       "      <th>2140</th>\n",
       "      <td>171</td>\n",
       "      <td>1853</td>\n",
       "      <td>1997-08-10</td>\n",
       "      <td>6</td>\n",
       "      <td>5</td>\n",
       "      <td>A</td>\n",
       "      <td>1.75</td>\n",
       "      <td>101.06</td>\n",
       "    </tr>\n",
       "    <tr>\n",
       "      <th>8318</th>\n",
       "      <td>667</td>\n",
       "      <td>2796</td>\n",
       "      <td>1998-02-25</td>\n",
       "      <td>2</td>\n",
       "      <td>5</td>\n",
       "      <td>C+3</td>\n",
       "      <td>0.50</td>\n",
       "      <td>101.97</td>\n",
       "    </tr>\n",
       "  </tbody>\n",
       "</table>\n",
       "</div>"
      ],
      "text/plain": [
       "       race_id2  horse_id      date2  finish_position2  class2 condition2  \\\n",
       "18728      1492      3917 1999-05-30                 8       5        C+3   \n",
       "20414      1629      2157 1999-07-28                11       5          B   \n",
       "12543       999       858 1998-09-18                 4       4        B+2   \n",
       "2140        171      1853 1997-08-10                 6       5          A   \n",
       "8318        667      2796 1998-02-25                 2       5        C+3   \n",
       "\n",
       "       length_behind2  finish_time2  \n",
       "18728            7.50         97.89  \n",
       "20414           14.50        140.20  \n",
       "12543            2.50         70.54  \n",
       "2140             1.75        101.06  \n",
       "8318             0.50        101.97  "
      ]
     },
     "execution_count": 169,
     "metadata": {},
     "output_type": "execute_result"
    }
   ],
   "source": [
    "final_df2.head()"
   ]
  },
  {
   "cell_type": "code",
   "execution_count": 170,
   "metadata": {},
   "outputs": [
    {
     "data": {
      "text/plain": [
       "(3823, 8)"
      ]
     },
     "execution_count": 170,
     "metadata": {},
     "output_type": "execute_result"
    }
   ],
   "source": [
    "final_df2.shape"
   ]
  },
  {
   "cell_type": "code",
   "execution_count": 171,
   "metadata": {},
   "outputs": [],
   "source": [
    "new_df = final_df.merge(final_df1,how='left',on='horse_id')\n",
    "#pd.merge(pd.merge(df1,df2,on='name'),df3,on='name')"
   ]
  },
  {
   "cell_type": "code",
   "execution_count": 173,
   "metadata": {},
   "outputs": [
    {
     "data": {
      "text/html": [
       "<div>\n",
       "<style scoped>\n",
       "    .dataframe tbody tr th:only-of-type {\n",
       "        vertical-align: middle;\n",
       "    }\n",
       "\n",
       "    .dataframe tbody tr th {\n",
       "        vertical-align: top;\n",
       "    }\n",
       "\n",
       "    .dataframe thead th {\n",
       "        text-align: right;\n",
       "    }\n",
       "</style>\n",
       "<table border=\"1\" class=\"dataframe\">\n",
       "  <thead>\n",
       "    <tr style=\"text-align: right;\">\n",
       "      <th></th>\n",
       "      <th>race_id</th>\n",
       "      <th>horse_id</th>\n",
       "      <th>horse_age</th>\n",
       "      <th>date</th>\n",
       "      <th>finish_position</th>\n",
       "      <th>class</th>\n",
       "      <th>condition</th>\n",
       "      <th>length_behind</th>\n",
       "      <th>finish_time</th>\n",
       "      <th>race_id1</th>\n",
       "      <th>date1</th>\n",
       "      <th>finish_position1</th>\n",
       "      <th>class1</th>\n",
       "      <th>condition1</th>\n",
       "      <th>length_behind1</th>\n",
       "      <th>finish_time1</th>\n",
       "    </tr>\n",
       "  </thead>\n",
       "  <tbody>\n",
       "    <tr>\n",
       "      <th>0</th>\n",
       "      <td>1629</td>\n",
       "      <td>3917</td>\n",
       "      <td>3</td>\n",
       "      <td>1999-07-28</td>\n",
       "      <td>12</td>\n",
       "      <td>5</td>\n",
       "      <td>B</td>\n",
       "      <td>14.75</td>\n",
       "      <td>140.21</td>\n",
       "      <td>1530.0</td>\n",
       "      <td>1999-06-13</td>\n",
       "      <td>7.0</td>\n",
       "      <td>5.0</td>\n",
       "      <td>B+2</td>\n",
       "      <td>6.25</td>\n",
       "      <td>109.60</td>\n",
       "    </tr>\n",
       "    <tr>\n",
       "      <th>1</th>\n",
       "      <td>1745</td>\n",
       "      <td>2157</td>\n",
       "      <td>3</td>\n",
       "      <td>1999-09-13</td>\n",
       "      <td>8</td>\n",
       "      <td>5</td>\n",
       "      <td>A+3</td>\n",
       "      <td>11.50</td>\n",
       "      <td>111.83</td>\n",
       "      <td>1719.0</td>\n",
       "      <td>1999-09-01</td>\n",
       "      <td>9.0</td>\n",
       "      <td>5.0</td>\n",
       "      <td>C</td>\n",
       "      <td>5.75</td>\n",
       "      <td>103.96</td>\n",
       "    </tr>\n",
       "    <tr>\n",
       "      <th>2</th>\n",
       "      <td>1191</td>\n",
       "      <td>858</td>\n",
       "      <td>3</td>\n",
       "      <td>1998-12-09</td>\n",
       "      <td>9</td>\n",
       "      <td>5</td>\n",
       "      <td>A</td>\n",
       "      <td>12.50</td>\n",
       "      <td>72.04</td>\n",
       "      <td>1091.0</td>\n",
       "      <td>1998-10-25</td>\n",
       "      <td>11.0</td>\n",
       "      <td>4.0</td>\n",
       "      <td>C</td>\n",
       "      <td>5.25</td>\n",
       "      <td>86.39</td>\n",
       "    </tr>\n",
       "    <tr>\n",
       "      <th>3</th>\n",
       "      <td>295</td>\n",
       "      <td>1853</td>\n",
       "      <td>3</td>\n",
       "      <td>1997-09-27</td>\n",
       "      <td>14</td>\n",
       "      <td>5</td>\n",
       "      <td>A</td>\n",
       "      <td>12.25</td>\n",
       "      <td>112.29</td>\n",
       "      <td>253.0</td>\n",
       "      <td>1997-09-14</td>\n",
       "      <td>11.0</td>\n",
       "      <td>5.0</td>\n",
       "      <td>A+3</td>\n",
       "      <td>5.50</td>\n",
       "      <td>71.48</td>\n",
       "    </tr>\n",
       "    <tr>\n",
       "      <th>4</th>\n",
       "      <td>791</td>\n",
       "      <td>2796</td>\n",
       "      <td>3</td>\n",
       "      <td>1998-06-24</td>\n",
       "      <td>3</td>\n",
       "      <td>5</td>\n",
       "      <td>A</td>\n",
       "      <td>2.25</td>\n",
       "      <td>101.70</td>\n",
       "      <td>735.0</td>\n",
       "      <td>1998-06-03</td>\n",
       "      <td>2.0</td>\n",
       "      <td>5.0</td>\n",
       "      <td>A</td>\n",
       "      <td>0.25</td>\n",
       "      <td>100.84</td>\n",
       "    </tr>\n",
       "  </tbody>\n",
       "</table>\n",
       "</div>"
      ],
      "text/plain": [
       "   race_id  horse_id  horse_age       date  finish_position  class condition  \\\n",
       "0     1629      3917          3 1999-07-28               12      5         B   \n",
       "1     1745      2157          3 1999-09-13                8      5       A+3   \n",
       "2     1191       858          3 1998-12-09                9      5         A   \n",
       "3      295      1853          3 1997-09-27               14      5         A   \n",
       "4      791      2796          3 1998-06-24                3      5         A   \n",
       "\n",
       "   length_behind  finish_time  race_id1      date1  finish_position1  class1  \\\n",
       "0          14.75       140.21    1530.0 1999-06-13               7.0     5.0   \n",
       "1          11.50       111.83    1719.0 1999-09-01               9.0     5.0   \n",
       "2          12.50        72.04    1091.0 1998-10-25              11.0     4.0   \n",
       "3          12.25       112.29     253.0 1997-09-14              11.0     5.0   \n",
       "4           2.25       101.70     735.0 1998-06-03               2.0     5.0   \n",
       "\n",
       "  condition1  length_behind1  finish_time1  \n",
       "0        B+2            6.25        109.60  \n",
       "1          C            5.75        103.96  \n",
       "2          C            5.25         86.39  \n",
       "3        A+3            5.50         71.48  \n",
       "4          A            0.25        100.84  "
      ]
     },
     "execution_count": 173,
     "metadata": {},
     "output_type": "execute_result"
    }
   ],
   "source": [
    "new_df.head()"
   ]
  },
  {
   "cell_type": "code",
   "execution_count": 174,
   "metadata": {},
   "outputs": [
    {
     "data": {
      "text/plain": [
       "(4405, 16)"
      ]
     },
     "execution_count": 174,
     "metadata": {},
     "output_type": "execute_result"
    }
   ],
   "source": [
    "new_df.shape"
   ]
  },
  {
   "cell_type": "code",
   "execution_count": 175,
   "metadata": {},
   "outputs": [],
   "source": [
    "horse_df = new_df.merge(final_df2,how='left',on='horse_id')"
   ]
  },
  {
   "cell_type": "code",
   "execution_count": 177,
   "metadata": {},
   "outputs": [
    {
     "data": {
      "text/html": [
       "<div>\n",
       "<style scoped>\n",
       "    .dataframe tbody tr th:only-of-type {\n",
       "        vertical-align: middle;\n",
       "    }\n",
       "\n",
       "    .dataframe tbody tr th {\n",
       "        vertical-align: top;\n",
       "    }\n",
       "\n",
       "    .dataframe thead th {\n",
       "        text-align: right;\n",
       "    }\n",
       "</style>\n",
       "<table border=\"1\" class=\"dataframe\">\n",
       "  <thead>\n",
       "    <tr style=\"text-align: right;\">\n",
       "      <th></th>\n",
       "      <th>race_id</th>\n",
       "      <th>horse_id</th>\n",
       "      <th>horse_age</th>\n",
       "      <th>date</th>\n",
       "      <th>finish_position</th>\n",
       "      <th>class</th>\n",
       "      <th>condition</th>\n",
       "      <th>length_behind</th>\n",
       "      <th>finish_time</th>\n",
       "      <th>race_id1</th>\n",
       "      <th>...</th>\n",
       "      <th>condition1</th>\n",
       "      <th>length_behind1</th>\n",
       "      <th>finish_time1</th>\n",
       "      <th>race_id2</th>\n",
       "      <th>date2</th>\n",
       "      <th>finish_position2</th>\n",
       "      <th>class2</th>\n",
       "      <th>condition2</th>\n",
       "      <th>length_behind2</th>\n",
       "      <th>finish_time2</th>\n",
       "    </tr>\n",
       "  </thead>\n",
       "  <tbody>\n",
       "    <tr>\n",
       "      <th>0</th>\n",
       "      <td>1629</td>\n",
       "      <td>3917</td>\n",
       "      <td>3</td>\n",
       "      <td>1999-07-28</td>\n",
       "      <td>12</td>\n",
       "      <td>5</td>\n",
       "      <td>B</td>\n",
       "      <td>14.75</td>\n",
       "      <td>140.21</td>\n",
       "      <td>1530.0</td>\n",
       "      <td>...</td>\n",
       "      <td>B+2</td>\n",
       "      <td>6.25</td>\n",
       "      <td>109.60</td>\n",
       "      <td>1492.0</td>\n",
       "      <td>1999-05-30</td>\n",
       "      <td>8.0</td>\n",
       "      <td>5.0</td>\n",
       "      <td>C+3</td>\n",
       "      <td>7.50</td>\n",
       "      <td>97.89</td>\n",
       "    </tr>\n",
       "    <tr>\n",
       "      <th>1</th>\n",
       "      <td>1745</td>\n",
       "      <td>2157</td>\n",
       "      <td>3</td>\n",
       "      <td>1999-09-13</td>\n",
       "      <td>8</td>\n",
       "      <td>5</td>\n",
       "      <td>A+3</td>\n",
       "      <td>11.50</td>\n",
       "      <td>111.83</td>\n",
       "      <td>1719.0</td>\n",
       "      <td>...</td>\n",
       "      <td>C</td>\n",
       "      <td>5.75</td>\n",
       "      <td>103.96</td>\n",
       "      <td>1629.0</td>\n",
       "      <td>1999-07-28</td>\n",
       "      <td>11.0</td>\n",
       "      <td>5.0</td>\n",
       "      <td>B</td>\n",
       "      <td>14.50</td>\n",
       "      <td>140.20</td>\n",
       "    </tr>\n",
       "    <tr>\n",
       "      <th>2</th>\n",
       "      <td>1191</td>\n",
       "      <td>858</td>\n",
       "      <td>3</td>\n",
       "      <td>1998-12-09</td>\n",
       "      <td>9</td>\n",
       "      <td>5</td>\n",
       "      <td>A</td>\n",
       "      <td>12.50</td>\n",
       "      <td>72.04</td>\n",
       "      <td>1091.0</td>\n",
       "      <td>...</td>\n",
       "      <td>C</td>\n",
       "      <td>5.25</td>\n",
       "      <td>86.39</td>\n",
       "      <td>999.0</td>\n",
       "      <td>1998-09-18</td>\n",
       "      <td>4.0</td>\n",
       "      <td>4.0</td>\n",
       "      <td>B+2</td>\n",
       "      <td>2.50</td>\n",
       "      <td>70.54</td>\n",
       "    </tr>\n",
       "    <tr>\n",
       "      <th>3</th>\n",
       "      <td>295</td>\n",
       "      <td>1853</td>\n",
       "      <td>3</td>\n",
       "      <td>1997-09-27</td>\n",
       "      <td>14</td>\n",
       "      <td>5</td>\n",
       "      <td>A</td>\n",
       "      <td>12.25</td>\n",
       "      <td>112.29</td>\n",
       "      <td>253.0</td>\n",
       "      <td>...</td>\n",
       "      <td>A+3</td>\n",
       "      <td>5.50</td>\n",
       "      <td>71.48</td>\n",
       "      <td>171.0</td>\n",
       "      <td>1997-08-10</td>\n",
       "      <td>6.0</td>\n",
       "      <td>5.0</td>\n",
       "      <td>A</td>\n",
       "      <td>1.75</td>\n",
       "      <td>101.06</td>\n",
       "    </tr>\n",
       "    <tr>\n",
       "      <th>4</th>\n",
       "      <td>791</td>\n",
       "      <td>2796</td>\n",
       "      <td>3</td>\n",
       "      <td>1998-06-24</td>\n",
       "      <td>3</td>\n",
       "      <td>5</td>\n",
       "      <td>A</td>\n",
       "      <td>2.25</td>\n",
       "      <td>101.70</td>\n",
       "      <td>735.0</td>\n",
       "      <td>...</td>\n",
       "      <td>A</td>\n",
       "      <td>0.25</td>\n",
       "      <td>100.84</td>\n",
       "      <td>667.0</td>\n",
       "      <td>1998-02-25</td>\n",
       "      <td>2.0</td>\n",
       "      <td>5.0</td>\n",
       "      <td>C+3</td>\n",
       "      <td>0.50</td>\n",
       "      <td>101.97</td>\n",
       "    </tr>\n",
       "  </tbody>\n",
       "</table>\n",
       "<p>5 rows × 23 columns</p>\n",
       "</div>"
      ],
      "text/plain": [
       "   race_id  horse_id  horse_age       date  finish_position  class condition  \\\n",
       "0     1629      3917          3 1999-07-28               12      5         B   \n",
       "1     1745      2157          3 1999-09-13                8      5       A+3   \n",
       "2     1191       858          3 1998-12-09                9      5         A   \n",
       "3      295      1853          3 1997-09-27               14      5         A   \n",
       "4      791      2796          3 1998-06-24                3      5         A   \n",
       "\n",
       "   length_behind  finish_time  race_id1  ... condition1  length_behind1  \\\n",
       "0          14.75       140.21    1530.0  ...        B+2            6.25   \n",
       "1          11.50       111.83    1719.0  ...          C            5.75   \n",
       "2          12.50        72.04    1091.0  ...          C            5.25   \n",
       "3          12.25       112.29     253.0  ...        A+3            5.50   \n",
       "4           2.25       101.70     735.0  ...          A            0.25   \n",
       "\n",
       "   finish_time1 race_id2      date2  finish_position2  class2 condition2  \\\n",
       "0        109.60   1492.0 1999-05-30               8.0     5.0        C+3   \n",
       "1        103.96   1629.0 1999-07-28              11.0     5.0          B   \n",
       "2         86.39    999.0 1998-09-18               4.0     4.0        B+2   \n",
       "3         71.48    171.0 1997-08-10               6.0     5.0          A   \n",
       "4        100.84    667.0 1998-02-25               2.0     5.0        C+3   \n",
       "\n",
       "   length_behind2  finish_time2  \n",
       "0            7.50         97.89  \n",
       "1           14.50        140.20  \n",
       "2            2.50         70.54  \n",
       "3            1.75        101.06  \n",
       "4            0.50        101.97  \n",
       "\n",
       "[5 rows x 23 columns]"
      ]
     },
     "execution_count": 177,
     "metadata": {},
     "output_type": "execute_result"
    }
   ],
   "source": [
    "horse_df.head()"
   ]
  },
  {
   "cell_type": "code",
   "execution_count": 178,
   "metadata": {},
   "outputs": [
    {
     "data": {
      "text/plain": [
       "(4405, 23)"
      ]
     },
     "execution_count": 178,
     "metadata": {},
     "output_type": "execute_result"
    }
   ],
   "source": [
    "horse_df.shape"
   ]
  },
  {
   "cell_type": "markdown",
   "metadata": {},
   "source": [
    "# In our merged dataset for last race, second last race and race previous to that has 'NaN' values at some places because there are some horses participated in only one or two race.\n",
    "\n",
    "* `We will replace those 'NaN' values to '-' for further analysis.`"
   ]
  },
  {
   "cell_type": "code",
   "execution_count": 179,
   "metadata": {},
   "outputs": [],
   "source": [
    "ndf = horse_df.replace(np.nan,'-')"
   ]
  },
  {
   "cell_type": "code",
   "execution_count": 180,
   "metadata": {},
   "outputs": [
    {
     "data": {
      "text/html": [
       "<div>\n",
       "<style scoped>\n",
       "    .dataframe tbody tr th:only-of-type {\n",
       "        vertical-align: middle;\n",
       "    }\n",
       "\n",
       "    .dataframe tbody tr th {\n",
       "        vertical-align: top;\n",
       "    }\n",
       "\n",
       "    .dataframe thead th {\n",
       "        text-align: right;\n",
       "    }\n",
       "</style>\n",
       "<table border=\"1\" class=\"dataframe\">\n",
       "  <thead>\n",
       "    <tr style=\"text-align: right;\">\n",
       "      <th></th>\n",
       "      <th>race_id</th>\n",
       "      <th>horse_id</th>\n",
       "      <th>horse_age</th>\n",
       "      <th>date</th>\n",
       "      <th>finish_position</th>\n",
       "      <th>class</th>\n",
       "      <th>condition</th>\n",
       "      <th>length_behind</th>\n",
       "      <th>finish_time</th>\n",
       "      <th>race_id1</th>\n",
       "      <th>...</th>\n",
       "      <th>condition1</th>\n",
       "      <th>length_behind1</th>\n",
       "      <th>finish_time1</th>\n",
       "      <th>race_id2</th>\n",
       "      <th>date2</th>\n",
       "      <th>finish_position2</th>\n",
       "      <th>class2</th>\n",
       "      <th>condition2</th>\n",
       "      <th>length_behind2</th>\n",
       "      <th>finish_time2</th>\n",
       "    </tr>\n",
       "  </thead>\n",
       "  <tbody>\n",
       "    <tr>\n",
       "      <th>4400</th>\n",
       "      <td>6345</td>\n",
       "      <td>2607</td>\n",
       "      <td>3</td>\n",
       "      <td>2005-08-28</td>\n",
       "      <td>10</td>\n",
       "      <td>11</td>\n",
       "      <td>A</td>\n",
       "      <td>3.50</td>\n",
       "      <td>94.02</td>\n",
       "      <td>-</td>\n",
       "      <td>...</td>\n",
       "      <td>-</td>\n",
       "      <td>-</td>\n",
       "      <td>-</td>\n",
       "      <td>-</td>\n",
       "      <td>-</td>\n",
       "      <td>-</td>\n",
       "      <td>-</td>\n",
       "      <td>-</td>\n",
       "      <td>-</td>\n",
       "      <td>-</td>\n",
       "    </tr>\n",
       "    <tr>\n",
       "      <th>4401</th>\n",
       "      <td>6346</td>\n",
       "      <td>2605</td>\n",
       "      <td>3</td>\n",
       "      <td>2005-08-28</td>\n",
       "      <td>7</td>\n",
       "      <td>11</td>\n",
       "      <td>A</td>\n",
       "      <td>4.75</td>\n",
       "      <td>121.73</td>\n",
       "      <td>-</td>\n",
       "      <td>...</td>\n",
       "      <td>-</td>\n",
       "      <td>-</td>\n",
       "      <td>-</td>\n",
       "      <td>-</td>\n",
       "      <td>-</td>\n",
       "      <td>-</td>\n",
       "      <td>-</td>\n",
       "      <td>-</td>\n",
       "      <td>-</td>\n",
       "      <td>-</td>\n",
       "    </tr>\n",
       "    <tr>\n",
       "      <th>4402</th>\n",
       "      <td>6346</td>\n",
       "      <td>2606</td>\n",
       "      <td>3</td>\n",
       "      <td>2005-08-28</td>\n",
       "      <td>9</td>\n",
       "      <td>11</td>\n",
       "      <td>A</td>\n",
       "      <td>7.00</td>\n",
       "      <td>122.08</td>\n",
       "      <td>-</td>\n",
       "      <td>...</td>\n",
       "      <td>-</td>\n",
       "      <td>-</td>\n",
       "      <td>-</td>\n",
       "      <td>-</td>\n",
       "      <td>-</td>\n",
       "      <td>-</td>\n",
       "      <td>-</td>\n",
       "      <td>-</td>\n",
       "      <td>-</td>\n",
       "      <td>-</td>\n",
       "    </tr>\n",
       "    <tr>\n",
       "      <th>4403</th>\n",
       "      <td>6347</td>\n",
       "      <td>2093</td>\n",
       "      <td>3</td>\n",
       "      <td>2005-08-28</td>\n",
       "      <td>10</td>\n",
       "      <td>2</td>\n",
       "      <td>A</td>\n",
       "      <td>6.25</td>\n",
       "      <td>70.14</td>\n",
       "      <td>-</td>\n",
       "      <td>...</td>\n",
       "      <td>-</td>\n",
       "      <td>-</td>\n",
       "      <td>-</td>\n",
       "      <td>-</td>\n",
       "      <td>-</td>\n",
       "      <td>-</td>\n",
       "      <td>-</td>\n",
       "      <td>-</td>\n",
       "      <td>-</td>\n",
       "      <td>-</td>\n",
       "    </tr>\n",
       "    <tr>\n",
       "      <th>4404</th>\n",
       "      <td>6348</td>\n",
       "      <td>216</td>\n",
       "      <td>3</td>\n",
       "      <td>2005-08-28</td>\n",
       "      <td>1</td>\n",
       "      <td>2</td>\n",
       "      <td>A</td>\n",
       "      <td>0.00</td>\n",
       "      <td>95.96</td>\n",
       "      <td>-</td>\n",
       "      <td>...</td>\n",
       "      <td>-</td>\n",
       "      <td>-</td>\n",
       "      <td>-</td>\n",
       "      <td>-</td>\n",
       "      <td>-</td>\n",
       "      <td>-</td>\n",
       "      <td>-</td>\n",
       "      <td>-</td>\n",
       "      <td>-</td>\n",
       "      <td>-</td>\n",
       "    </tr>\n",
       "  </tbody>\n",
       "</table>\n",
       "<p>5 rows × 23 columns</p>\n",
       "</div>"
      ],
      "text/plain": [
       "      race_id  horse_id  horse_age       date  finish_position  class  \\\n",
       "4400     6345      2607          3 2005-08-28               10     11   \n",
       "4401     6346      2605          3 2005-08-28                7     11   \n",
       "4402     6346      2606          3 2005-08-28                9     11   \n",
       "4403     6347      2093          3 2005-08-28               10      2   \n",
       "4404     6348       216          3 2005-08-28                1      2   \n",
       "\n",
       "     condition  length_behind  finish_time race_id1  ... condition1  \\\n",
       "4400         A           3.50        94.02        -  ...          -   \n",
       "4401         A           4.75       121.73        -  ...          -   \n",
       "4402         A           7.00       122.08        -  ...          -   \n",
       "4403         A           6.25        70.14        -  ...          -   \n",
       "4404         A           0.00        95.96        -  ...          -   \n",
       "\n",
       "     length_behind1 finish_time1 race_id2 date2 finish_position2 class2  \\\n",
       "4400              -            -        -     -                -      -   \n",
       "4401              -            -        -     -                -      -   \n",
       "4402              -            -        -     -                -      -   \n",
       "4403              -            -        -     -                -      -   \n",
       "4404              -            -        -     -                -      -   \n",
       "\n",
       "     condition2 length_behind2 finish_time2  \n",
       "4400          -              -            -  \n",
       "4401          -              -            -  \n",
       "4402          -              -            -  \n",
       "4403          -              -            -  \n",
       "4404          -              -            -  \n",
       "\n",
       "[5 rows x 23 columns]"
      ]
     },
     "execution_count": 180,
     "metadata": {},
     "output_type": "execute_result"
    }
   ],
   "source": [
    "ndf.tail()"
   ]
  },
  {
   "cell_type": "code",
   "execution_count": 182,
   "metadata": {},
   "outputs": [
    {
     "data": {
      "text/plain": [
       "A      1766\n",
       "C       728\n",
       "C+3     664\n",
       "B       535\n",
       "B+2     370\n",
       "A+3     342\n",
       "Name: condition, dtype: int64"
      ]
     },
     "execution_count": 182,
     "metadata": {},
     "output_type": "execute_result"
    }
   ],
   "source": [
    "horse_df.condition.value_counts()"
   ]
  },
  {
   "cell_type": "code",
   "execution_count": 183,
   "metadata": {},
   "outputs": [
    {
     "data": {
      "text/plain": [
       "4     1479\n",
       "5     1037\n",
       "3     1019\n",
       "2      311\n",
       "11     301\n",
       "1      140\n",
       "13      78\n",
       "12      22\n",
       "6       15\n",
       "0        3\n",
       "Name: class, dtype: int64"
      ]
     },
     "execution_count": 183,
     "metadata": {},
     "output_type": "execute_result"
    }
   ],
   "source": [
    "horse_df['class'].value_counts()"
   ]
  },
  {
   "cell_type": "markdown",
   "metadata": {},
   "source": [
    "## Let's check for horse which participated in current 3 races\n",
    "\n",
    "+ We will drop horses from our dataset which played only one or two race"
   ]
  },
  {
   "cell_type": "code",
   "execution_count": 184,
   "metadata": {},
   "outputs": [],
   "source": [
    "ndf = ndf.loc[~ndf.apply(lambda row: (row=='-').any(), axis=1)]"
   ]
  },
  {
   "cell_type": "code",
   "execution_count": 185,
   "metadata": {},
   "outputs": [
    {
     "data": {
      "text/plain": [
       "(3823, 23)"
      ]
     },
     "execution_count": 185,
     "metadata": {},
     "output_type": "execute_result"
    }
   ],
   "source": [
    "ndf.shape"
   ]
  },
  {
   "cell_type": "code",
   "execution_count": 186,
   "metadata": {},
   "outputs": [
    {
     "data": {
      "text/html": [
       "<div>\n",
       "<style scoped>\n",
       "    .dataframe tbody tr th:only-of-type {\n",
       "        vertical-align: middle;\n",
       "    }\n",
       "\n",
       "    .dataframe tbody tr th {\n",
       "        vertical-align: top;\n",
       "    }\n",
       "\n",
       "    .dataframe thead th {\n",
       "        text-align: right;\n",
       "    }\n",
       "</style>\n",
       "<table border=\"1\" class=\"dataframe\">\n",
       "  <thead>\n",
       "    <tr style=\"text-align: right;\">\n",
       "      <th></th>\n",
       "      <th>race_id</th>\n",
       "      <th>horse_id</th>\n",
       "      <th>horse_age</th>\n",
       "      <th>date</th>\n",
       "      <th>finish_position</th>\n",
       "      <th>class</th>\n",
       "      <th>condition</th>\n",
       "      <th>length_behind</th>\n",
       "      <th>finish_time</th>\n",
       "      <th>race_id1</th>\n",
       "      <th>...</th>\n",
       "      <th>condition1</th>\n",
       "      <th>length_behind1</th>\n",
       "      <th>finish_time1</th>\n",
       "      <th>race_id2</th>\n",
       "      <th>date2</th>\n",
       "      <th>finish_position2</th>\n",
       "      <th>class2</th>\n",
       "      <th>condition2</th>\n",
       "      <th>length_behind2</th>\n",
       "      <th>finish_time2</th>\n",
       "    </tr>\n",
       "  </thead>\n",
       "  <tbody>\n",
       "    <tr>\n",
       "      <th>4320</th>\n",
       "      <td>6304</td>\n",
       "      <td>2595</td>\n",
       "      <td>3</td>\n",
       "      <td>2005-08-14</td>\n",
       "      <td>2</td>\n",
       "      <td>3</td>\n",
       "      <td>C</td>\n",
       "      <td>1.0</td>\n",
       "      <td>69.61</td>\n",
       "      <td>6287</td>\n",
       "      <td>...</td>\n",
       "      <td>B+2</td>\n",
       "      <td>6.25</td>\n",
       "      <td>82.76</td>\n",
       "      <td>6249</td>\n",
       "      <td>1122163200000000000</td>\n",
       "      <td>11</td>\n",
       "      <td>3</td>\n",
       "      <td>C+3</td>\n",
       "      <td>5.25</td>\n",
       "      <td>69.97</td>\n",
       "    </tr>\n",
       "    <tr>\n",
       "      <th>4321</th>\n",
       "      <td>6339</td>\n",
       "      <td>458</td>\n",
       "      <td>3</td>\n",
       "      <td>2005-08-28</td>\n",
       "      <td>14</td>\n",
       "      <td>3</td>\n",
       "      <td>A</td>\n",
       "      <td>8.5</td>\n",
       "      <td>70.78</td>\n",
       "      <td>6300</td>\n",
       "      <td>...</td>\n",
       "      <td>C+3</td>\n",
       "      <td>8.75</td>\n",
       "      <td>71.93</td>\n",
       "      <td>6249</td>\n",
       "      <td>1122163200000000000</td>\n",
       "      <td>4</td>\n",
       "      <td>3</td>\n",
       "      <td>C+3</td>\n",
       "      <td>1.75</td>\n",
       "      <td>69.44</td>\n",
       "    </tr>\n",
       "    <tr>\n",
       "      <th>4323</th>\n",
       "      <td>6341</td>\n",
       "      <td>1543</td>\n",
       "      <td>3</td>\n",
       "      <td>2005-08-28</td>\n",
       "      <td>2</td>\n",
       "      <td>3</td>\n",
       "      <td>A</td>\n",
       "      <td>0.1</td>\n",
       "      <td>82.17</td>\n",
       "      <td>6310</td>\n",
       "      <td>...</td>\n",
       "      <td>C</td>\n",
       "      <td>0.75</td>\n",
       "      <td>81.9</td>\n",
       "      <td>6252</td>\n",
       "      <td>1122163200000000000</td>\n",
       "      <td>1</td>\n",
       "      <td>4</td>\n",
       "      <td>C+3</td>\n",
       "      <td>0</td>\n",
       "      <td>82.75</td>\n",
       "    </tr>\n",
       "    <tr>\n",
       "      <th>4324</th>\n",
       "      <td>6341</td>\n",
       "      <td>3331</td>\n",
       "      <td>3</td>\n",
       "      <td>2005-08-28</td>\n",
       "      <td>1</td>\n",
       "      <td>3</td>\n",
       "      <td>A</td>\n",
       "      <td>0.0</td>\n",
       "      <td>82.16</td>\n",
       "      <td>6287</td>\n",
       "      <td>...</td>\n",
       "      <td>B+2</td>\n",
       "      <td>1.25</td>\n",
       "      <td>81.95</td>\n",
       "      <td>6254</td>\n",
       "      <td>1122163200000000000</td>\n",
       "      <td>1</td>\n",
       "      <td>3</td>\n",
       "      <td>C+3</td>\n",
       "      <td>0</td>\n",
       "      <td>82.24</td>\n",
       "    </tr>\n",
       "    <tr>\n",
       "      <th>4343</th>\n",
       "      <td>6341</td>\n",
       "      <td>87</td>\n",
       "      <td>3</td>\n",
       "      <td>2005-08-28</td>\n",
       "      <td>14</td>\n",
       "      <td>3</td>\n",
       "      <td>A</td>\n",
       "      <td>8.0</td>\n",
       "      <td>83.43</td>\n",
       "      <td>6318</td>\n",
       "      <td>...</td>\n",
       "      <td>A</td>\n",
       "      <td>15.5</td>\n",
       "      <td>112.19</td>\n",
       "      <td>6274</td>\n",
       "      <td>1122681600000000000</td>\n",
       "      <td>14</td>\n",
       "      <td>3</td>\n",
       "      <td>A+3</td>\n",
       "      <td>9</td>\n",
       "      <td>96.46</td>\n",
       "    </tr>\n",
       "  </tbody>\n",
       "</table>\n",
       "<p>5 rows × 23 columns</p>\n",
       "</div>"
      ],
      "text/plain": [
       "      race_id  horse_id  horse_age       date  finish_position  class  \\\n",
       "4320     6304      2595          3 2005-08-14                2      3   \n",
       "4321     6339       458          3 2005-08-28               14      3   \n",
       "4323     6341      1543          3 2005-08-28                2      3   \n",
       "4324     6341      3331          3 2005-08-28                1      3   \n",
       "4343     6341        87          3 2005-08-28               14      3   \n",
       "\n",
       "     condition  length_behind  finish_time race_id1  ... condition1  \\\n",
       "4320         C            1.0        69.61     6287  ...        B+2   \n",
       "4321         A            8.5        70.78     6300  ...        C+3   \n",
       "4323         A            0.1        82.17     6310  ...          C   \n",
       "4324         A            0.0        82.16     6287  ...        B+2   \n",
       "4343         A            8.0        83.43     6318  ...          A   \n",
       "\n",
       "     length_behind1 finish_time1 race_id2                date2  \\\n",
       "4320           6.25        82.76     6249  1122163200000000000   \n",
       "4321           8.75        71.93     6249  1122163200000000000   \n",
       "4323           0.75         81.9     6252  1122163200000000000   \n",
       "4324           1.25        81.95     6254  1122163200000000000   \n",
       "4343           15.5       112.19     6274  1122681600000000000   \n",
       "\n",
       "     finish_position2 class2 condition2 length_behind2 finish_time2  \n",
       "4320               11      3        C+3           5.25        69.97  \n",
       "4321                4      3        C+3           1.75        69.44  \n",
       "4323                1      4        C+3              0        82.75  \n",
       "4324                1      3        C+3              0        82.24  \n",
       "4343               14      3        A+3              9        96.46  \n",
       "\n",
       "[5 rows x 23 columns]"
      ]
     },
     "execution_count": 186,
     "metadata": {},
     "output_type": "execute_result"
    }
   ],
   "source": [
    "ndf.tail()"
   ]
  },
  {
   "cell_type": "code",
   "execution_count": null,
   "metadata": {},
   "outputs": [],
   "source": []
  },
  {
   "cell_type": "code",
   "execution_count": 37,
   "metadata": {},
   "outputs": [
    {
     "data": {
      "text/plain": [
       "4     1302\n",
       "5     1025\n",
       "3      920\n",
       "2      292\n",
       "1      132\n",
       "11      79\n",
       "13      43\n",
       "12      21\n",
       "6        7\n",
       "0        2\n",
       "Name: class, dtype: int64"
      ]
     },
     "execution_count": 37,
     "metadata": {},
     "output_type": "execute_result"
    }
   ],
   "source": [
    "ndf['class'].value_counts()"
   ]
  },
  {
   "cell_type": "code",
   "execution_count": 38,
   "metadata": {},
   "outputs": [
    {
     "data": {
      "text/plain": [
       "A      1472\n",
       "C       653\n",
       "C+3     574\n",
       "B       500\n",
       "B+2     325\n",
       "A+3     299\n",
       "Name: condition, dtype: int64"
      ]
     },
     "execution_count": 38,
     "metadata": {},
     "output_type": "execute_result"
    }
   ],
   "source": [
    "ndf.condition.value_counts()"
   ]
  },
  {
   "cell_type": "markdown",
   "metadata": {},
   "source": [
    "## Below are the details for each horse participated in race with `race class 4 and condition 'A'`"
   ]
  },
  {
   "cell_type": "code",
   "execution_count": 39,
   "metadata": {},
   "outputs": [],
   "source": [
    "a = ndf.groupby('class').get_group(4).groupby('condition').get_group('A')[['horse_id','finish_position','finish_position1','finish_position2']]"
   ]
  },
  {
   "cell_type": "code",
   "execution_count": 40,
   "metadata": {},
   "outputs": [
    {
     "data": {
      "text/plain": [
       "(442, 4)"
      ]
     },
     "execution_count": 40,
     "metadata": {},
     "output_type": "execute_result"
    }
   ],
   "source": [
    "a.shape"
   ]
  },
  {
   "cell_type": "markdown",
   "metadata": {},
   "source": []
  },
  {
   "cell_type": "code",
   "execution_count": 41,
   "metadata": {},
   "outputs": [
    {
     "data": {
      "text/plain": [
       "152"
      ]
     },
     "execution_count": 41,
     "metadata": {},
     "output_type": "execute_result"
    }
   ],
   "source": [
    "k = []\n",
    "for i, j in a.iterrows():\n",
    "    if (j['finish_position1'] > j['finish_position']):\n",
    "        k.append(j['horse_id'])\n",
    "len(k)"
   ]
  },
  {
   "cell_type": "code",
   "execution_count": 42,
   "metadata": {},
   "outputs": [
    {
     "data": {
      "text/plain": [
       "39"
      ]
     },
     "execution_count": 42,
     "metadata": {},
     "output_type": "execute_result"
    }
   ],
   "source": [
    "l = []\n",
    "for i, j in a.iterrows():\n",
    "    if (j['finish_position2'] > j['finish_position1'] > j['finish_position']):\n",
    "        l.append(j['horse_id'])\n",
    "len(l)"
   ]
  },
  {
   "cell_type": "markdown",
   "metadata": {},
   "source": [
    "# from the above observation we can say that,\n",
    "- There are 442 horse which participated all last 3 races with race class = 4 and condition = 'A'.\n",
    "- Out of which only 39 horses has shown the improvement in final position i.e. they have better achieve better final position as compared to previous race.\n",
    "- Also if we compare only for last two race then there are 152 horses which has imporvement in their final position"
   ]
  },
  {
   "cell_type": "code",
   "execution_count": 43,
   "metadata": {},
   "outputs": [
    {
     "name": "stdout",
     "output_type": "stream",
     "text": [
      "8.823529411764707\n"
     ]
    }
   ],
   "source": [
    "print((39/442)*100)"
   ]
  },
  {
   "cell_type": "markdown",
   "metadata": {},
   "source": [
    "### Below is the record of horses which shown improvement in final postion in last 3 races"
   ]
  },
  {
   "cell_type": "code",
   "execution_count": 44,
   "metadata": {},
   "outputs": [
    {
     "data": {
      "text/html": [
       "<div>\n",
       "<style scoped>\n",
       "    .dataframe tbody tr th:only-of-type {\n",
       "        vertical-align: middle;\n",
       "    }\n",
       "\n",
       "    .dataframe tbody tr th {\n",
       "        vertical-align: top;\n",
       "    }\n",
       "\n",
       "    .dataframe thead th {\n",
       "        text-align: right;\n",
       "    }\n",
       "</style>\n",
       "<table border=\"1\" class=\"dataframe\">\n",
       "  <thead>\n",
       "    <tr style=\"text-align: right;\">\n",
       "      <th></th>\n",
       "      <th>horse_id</th>\n",
       "      <th>finish_position</th>\n",
       "      <th>finish_position1</th>\n",
       "      <th>finish_position2</th>\n",
       "    </tr>\n",
       "  </thead>\n",
       "  <tbody>\n",
       "    <tr>\n",
       "      <th>70</th>\n",
       "      <td>3859</td>\n",
       "      <td>8</td>\n",
       "      <td>9</td>\n",
       "      <td>12</td>\n",
       "    </tr>\n",
       "    <tr>\n",
       "      <th>116</th>\n",
       "      <td>3196</td>\n",
       "      <td>7</td>\n",
       "      <td>9</td>\n",
       "      <td>11</td>\n",
       "    </tr>\n",
       "    <tr>\n",
       "      <th>154</th>\n",
       "      <td>1581</td>\n",
       "      <td>8</td>\n",
       "      <td>11</td>\n",
       "      <td>14</td>\n",
       "    </tr>\n",
       "    <tr>\n",
       "      <th>205</th>\n",
       "      <td>2995</td>\n",
       "      <td>4</td>\n",
       "      <td>8</td>\n",
       "      <td>9</td>\n",
       "    </tr>\n",
       "    <tr>\n",
       "      <th>257</th>\n",
       "      <td>1677</td>\n",
       "      <td>5</td>\n",
       "      <td>8</td>\n",
       "      <td>11</td>\n",
       "    </tr>\n",
       "    <tr>\n",
       "      <th>488</th>\n",
       "      <td>2962</td>\n",
       "      <td>3</td>\n",
       "      <td>7</td>\n",
       "      <td>9</td>\n",
       "    </tr>\n",
       "    <tr>\n",
       "      <th>566</th>\n",
       "      <td>3620</td>\n",
       "      <td>1</td>\n",
       "      <td>7</td>\n",
       "      <td>8</td>\n",
       "    </tr>\n",
       "    <tr>\n",
       "      <th>1359</th>\n",
       "      <td>2957</td>\n",
       "      <td>9</td>\n",
       "      <td>10</td>\n",
       "      <td>11</td>\n",
       "    </tr>\n",
       "    <tr>\n",
       "      <th>1618</th>\n",
       "      <td>3318</td>\n",
       "      <td>1</td>\n",
       "      <td>2</td>\n",
       "      <td>4</td>\n",
       "    </tr>\n",
       "    <tr>\n",
       "      <th>1639</th>\n",
       "      <td>1452</td>\n",
       "      <td>12</td>\n",
       "      <td>13</td>\n",
       "      <td>14</td>\n",
       "    </tr>\n",
       "    <tr>\n",
       "      <th>1729</th>\n",
       "      <td>1878</td>\n",
       "      <td>2</td>\n",
       "      <td>4</td>\n",
       "      <td>7</td>\n",
       "    </tr>\n",
       "    <tr>\n",
       "      <th>1766</th>\n",
       "      <td>2885</td>\n",
       "      <td>2</td>\n",
       "      <td>3</td>\n",
       "      <td>9</td>\n",
       "    </tr>\n",
       "    <tr>\n",
       "      <th>1887</th>\n",
       "      <td>1593</td>\n",
       "      <td>11</td>\n",
       "      <td>13</td>\n",
       "      <td>14</td>\n",
       "    </tr>\n",
       "    <tr>\n",
       "      <th>1949</th>\n",
       "      <td>3223</td>\n",
       "      <td>3</td>\n",
       "      <td>5</td>\n",
       "      <td>13</td>\n",
       "    </tr>\n",
       "    <tr>\n",
       "      <th>2112</th>\n",
       "      <td>760</td>\n",
       "      <td>5</td>\n",
       "      <td>9</td>\n",
       "      <td>13</td>\n",
       "    </tr>\n",
       "    <tr>\n",
       "      <th>2297</th>\n",
       "      <td>2226</td>\n",
       "      <td>1</td>\n",
       "      <td>9</td>\n",
       "      <td>10</td>\n",
       "    </tr>\n",
       "    <tr>\n",
       "      <th>2408</th>\n",
       "      <td>2284</td>\n",
       "      <td>6</td>\n",
       "      <td>9</td>\n",
       "      <td>10</td>\n",
       "    </tr>\n",
       "    <tr>\n",
       "      <th>2449</th>\n",
       "      <td>4290</td>\n",
       "      <td>5</td>\n",
       "      <td>6</td>\n",
       "      <td>11</td>\n",
       "    </tr>\n",
       "    <tr>\n",
       "      <th>2663</th>\n",
       "      <td>4078</td>\n",
       "      <td>10</td>\n",
       "      <td>11</td>\n",
       "      <td>12</td>\n",
       "    </tr>\n",
       "    <tr>\n",
       "      <th>3061</th>\n",
       "      <td>1621</td>\n",
       "      <td>3</td>\n",
       "      <td>6</td>\n",
       "      <td>8</td>\n",
       "    </tr>\n",
       "    <tr>\n",
       "      <th>3084</th>\n",
       "      <td>4024</td>\n",
       "      <td>1</td>\n",
       "      <td>5</td>\n",
       "      <td>6</td>\n",
       "    </tr>\n",
       "    <tr>\n",
       "      <th>3118</th>\n",
       "      <td>1233</td>\n",
       "      <td>1</td>\n",
       "      <td>2</td>\n",
       "      <td>4</td>\n",
       "    </tr>\n",
       "    <tr>\n",
       "      <th>3146</th>\n",
       "      <td>2712</td>\n",
       "      <td>2</td>\n",
       "      <td>6</td>\n",
       "      <td>7</td>\n",
       "    </tr>\n",
       "    <tr>\n",
       "      <th>3290</th>\n",
       "      <td>3796</td>\n",
       "      <td>1</td>\n",
       "      <td>4</td>\n",
       "      <td>6</td>\n",
       "    </tr>\n",
       "    <tr>\n",
       "      <th>3333</th>\n",
       "      <td>1317</td>\n",
       "      <td>9</td>\n",
       "      <td>11</td>\n",
       "      <td>14</td>\n",
       "    </tr>\n",
       "    <tr>\n",
       "      <th>3419</th>\n",
       "      <td>2529</td>\n",
       "      <td>4</td>\n",
       "      <td>6</td>\n",
       "      <td>7</td>\n",
       "    </tr>\n",
       "    <tr>\n",
       "      <th>3763</th>\n",
       "      <td>2652</td>\n",
       "      <td>7</td>\n",
       "      <td>10</td>\n",
       "      <td>11</td>\n",
       "    </tr>\n",
       "    <tr>\n",
       "      <th>3862</th>\n",
       "      <td>1394</td>\n",
       "      <td>2</td>\n",
       "      <td>11</td>\n",
       "      <td>12</td>\n",
       "    </tr>\n",
       "    <tr>\n",
       "      <th>3865</th>\n",
       "      <td>4383</td>\n",
       "      <td>7</td>\n",
       "      <td>8</td>\n",
       "      <td>11</td>\n",
       "    </tr>\n",
       "    <tr>\n",
       "      <th>3879</th>\n",
       "      <td>938</td>\n",
       "      <td>4</td>\n",
       "      <td>6</td>\n",
       "      <td>13</td>\n",
       "    </tr>\n",
       "    <tr>\n",
       "      <th>3905</th>\n",
       "      <td>2451</td>\n",
       "      <td>5</td>\n",
       "      <td>8</td>\n",
       "      <td>10</td>\n",
       "    </tr>\n",
       "    <tr>\n",
       "      <th>3942</th>\n",
       "      <td>1838</td>\n",
       "      <td>1</td>\n",
       "      <td>7</td>\n",
       "      <td>10</td>\n",
       "    </tr>\n",
       "    <tr>\n",
       "      <th>3964</th>\n",
       "      <td>1214</td>\n",
       "      <td>4</td>\n",
       "      <td>8</td>\n",
       "      <td>12</td>\n",
       "    </tr>\n",
       "    <tr>\n",
       "      <th>3971</th>\n",
       "      <td>3461</td>\n",
       "      <td>9</td>\n",
       "      <td>12</td>\n",
       "      <td>13</td>\n",
       "    </tr>\n",
       "    <tr>\n",
       "      <th>4109</th>\n",
       "      <td>528</td>\n",
       "      <td>1</td>\n",
       "      <td>7</td>\n",
       "      <td>14</td>\n",
       "    </tr>\n",
       "    <tr>\n",
       "      <th>4122</th>\n",
       "      <td>1998</td>\n",
       "      <td>9</td>\n",
       "      <td>10</td>\n",
       "      <td>13</td>\n",
       "    </tr>\n",
       "    <tr>\n",
       "      <th>4165</th>\n",
       "      <td>2370</td>\n",
       "      <td>7</td>\n",
       "      <td>8</td>\n",
       "      <td>14</td>\n",
       "    </tr>\n",
       "    <tr>\n",
       "      <th>4283</th>\n",
       "      <td>4360</td>\n",
       "      <td>3</td>\n",
       "      <td>5</td>\n",
       "      <td>11</td>\n",
       "    </tr>\n",
       "    <tr>\n",
       "      <th>4287</th>\n",
       "      <td>1956</td>\n",
       "      <td>5</td>\n",
       "      <td>10</td>\n",
       "      <td>11</td>\n",
       "    </tr>\n",
       "  </tbody>\n",
       "</table>\n",
       "</div>"
      ],
      "text/plain": [
       "      horse_id  finish_position finish_position1 finish_position2\n",
       "70        3859                8                9               12\n",
       "116       3196                7                9               11\n",
       "154       1581                8               11               14\n",
       "205       2995                4                8                9\n",
       "257       1677                5                8               11\n",
       "488       2962                3                7                9\n",
       "566       3620                1                7                8\n",
       "1359      2957                9               10               11\n",
       "1618      3318                1                2                4\n",
       "1639      1452               12               13               14\n",
       "1729      1878                2                4                7\n",
       "1766      2885                2                3                9\n",
       "1887      1593               11               13               14\n",
       "1949      3223                3                5               13\n",
       "2112       760                5                9               13\n",
       "2297      2226                1                9               10\n",
       "2408      2284                6                9               10\n",
       "2449      4290                5                6               11\n",
       "2663      4078               10               11               12\n",
       "3061      1621                3                6                8\n",
       "3084      4024                1                5                6\n",
       "3118      1233                1                2                4\n",
       "3146      2712                2                6                7\n",
       "3290      3796                1                4                6\n",
       "3333      1317                9               11               14\n",
       "3419      2529                4                6                7\n",
       "3763      2652                7               10               11\n",
       "3862      1394                2               11               12\n",
       "3865      4383                7                8               11\n",
       "3879       938                4                6               13\n",
       "3905      2451                5                8               10\n",
       "3942      1838                1                7               10\n",
       "3964      1214                4                8               12\n",
       "3971      3461                9               12               13\n",
       "4109       528                1                7               14\n",
       "4122      1998                9               10               13\n",
       "4165      2370                7                8               14\n",
       "4283      4360                3                5               11\n",
       "4287      1956                5               10               11"
      ]
     },
     "execution_count": 44,
     "metadata": {},
     "output_type": "execute_result"
    }
   ],
   "source": [
    "a[a['horse_id'].isin(l)]"
   ]
  },
  {
   "cell_type": "code",
   "execution_count": null,
   "metadata": {},
   "outputs": [],
   "source": []
  },
  {
   "cell_type": "markdown",
   "metadata": {},
   "source": [
    "## Below are the details for each horse participated in race with `race class 4 and condition 'C'`"
   ]
  },
  {
   "cell_type": "code",
   "execution_count": 45,
   "metadata": {},
   "outputs": [],
   "source": [
    "a = ndf.groupby('class').get_group(4).groupby('condition').get_group('C')[['horse_id','finish_position','finish_position1','finish_position2']]"
   ]
  },
  {
   "cell_type": "code",
   "execution_count": 46,
   "metadata": {},
   "outputs": [
    {
     "data": {
      "text/plain": [
       "(239, 4)"
      ]
     },
     "execution_count": 46,
     "metadata": {},
     "output_type": "execute_result"
    }
   ],
   "source": [
    "a.shape"
   ]
  },
  {
   "cell_type": "markdown",
   "metadata": {},
   "source": []
  },
  {
   "cell_type": "code",
   "execution_count": 47,
   "metadata": {},
   "outputs": [
    {
     "data": {
      "text/plain": [
       "86"
      ]
     },
     "execution_count": 47,
     "metadata": {},
     "output_type": "execute_result"
    }
   ],
   "source": [
    "k = []\n",
    "for i, j in a.iterrows():\n",
    "    if (j['finish_position1'] > j['finish_position']):\n",
    "        k.append(j['horse_id'])\n",
    "len(k)"
   ]
  },
  {
   "cell_type": "code",
   "execution_count": 48,
   "metadata": {},
   "outputs": [
    {
     "data": {
      "text/plain": [
       "29"
      ]
     },
     "execution_count": 48,
     "metadata": {},
     "output_type": "execute_result"
    }
   ],
   "source": [
    "l = []\n",
    "for i, j in a.iterrows():\n",
    "    if (j['finish_position2'] > j['finish_position1'] > j['finish_position']):\n",
    "        l.append(j['horse_id'])\n",
    "len(l)"
   ]
  },
  {
   "cell_type": "markdown",
   "metadata": {},
   "source": [
    "# from the above observation we can say that,\n",
    "- There are 239 horse which participated all last 3 races with race class = 4 and condition = 'C'.\n",
    "- Out of which only 29 horses has shown the improvement in final position i.e. they have better achieve better final position as compared to previous race\n",
    "- Also if we compare only for last two race then there are 86 horses which has imporvement in their final position"
   ]
  },
  {
   "cell_type": "code",
   "execution_count": 49,
   "metadata": {},
   "outputs": [
    {
     "name": "stdout",
     "output_type": "stream",
     "text": [
      "12.133891213389122\n"
     ]
    }
   ],
   "source": [
    "print((29/239)*100)"
   ]
  },
  {
   "cell_type": "markdown",
   "metadata": {},
   "source": [
    "## Below are the details for each horse participated in race with `race class 5 and condition 'A'`"
   ]
  },
  {
   "cell_type": "code",
   "execution_count": 50,
   "metadata": {},
   "outputs": [],
   "source": [
    "a = ndf.groupby('class').get_group(5).groupby('condition').get_group('A')[['horse_id','finish_position','finish_position1','finish_position2']]"
   ]
  },
  {
   "cell_type": "code",
   "execution_count": 51,
   "metadata": {},
   "outputs": [
    {
     "data": {
      "text/plain": [
       "(402, 4)"
      ]
     },
     "execution_count": 51,
     "metadata": {},
     "output_type": "execute_result"
    }
   ],
   "source": [
    "a.shape"
   ]
  },
  {
   "cell_type": "markdown",
   "metadata": {},
   "source": []
  },
  {
   "cell_type": "code",
   "execution_count": 52,
   "metadata": {},
   "outputs": [
    {
     "data": {
      "text/plain": [
       "155"
      ]
     },
     "execution_count": 52,
     "metadata": {},
     "output_type": "execute_result"
    }
   ],
   "source": [
    "k = []\n",
    "for i, j in a.iterrows():\n",
    "    if (j['finish_position1'] > j['finish_position']):\n",
    "        k.append(j['horse_id'])\n",
    "len(k)"
   ]
  },
  {
   "cell_type": "code",
   "execution_count": 53,
   "metadata": {},
   "outputs": [
    {
     "data": {
      "text/plain": [
       "41"
      ]
     },
     "execution_count": 53,
     "metadata": {},
     "output_type": "execute_result"
    }
   ],
   "source": [
    "l = []\n",
    "for i, j in a.iterrows():\n",
    "    if (j['finish_position2'] > j['finish_position1'] > j['finish_position']):\n",
    "        l.append(j['horse_id'])\n",
    "len(l)"
   ]
  },
  {
   "cell_type": "markdown",
   "metadata": {},
   "source": [
    "# from the above observation we can say that,\n",
    "- There are 402 horse which participated all last 3 races with race class = 4 and condition = 'A'.\n",
    "- Out of which only 41 horses has shown the improvement in final position i.e. they have better achieve better final position as compared to previous race\n",
    "- Also if we compare only for last two race then there are 155 horses which has imporvement in their final position"
   ]
  },
  {
   "cell_type": "code",
   "execution_count": 54,
   "metadata": {},
   "outputs": [
    {
     "name": "stdout",
     "output_type": "stream",
     "text": [
      "10.199004975124378\n"
     ]
    }
   ],
   "source": [
    "print((41/402)*100)"
   ]
  },
  {
   "cell_type": "markdown",
   "metadata": {},
   "source": [
    "## Below are the details for each horse participated in race with `race class 5 and condition 'C'`"
   ]
  },
  {
   "cell_type": "code",
   "execution_count": 55,
   "metadata": {},
   "outputs": [],
   "source": [
    "a = ndf.groupby('class').get_group(5).groupby('condition').get_group('C')[['horse_id','finish_position','finish_position1','finish_position2']]"
   ]
  },
  {
   "cell_type": "code",
   "execution_count": 56,
   "metadata": {},
   "outputs": [
    {
     "data": {
      "text/plain": [
       "(155, 4)"
      ]
     },
     "execution_count": 56,
     "metadata": {},
     "output_type": "execute_result"
    }
   ],
   "source": [
    "a.shape"
   ]
  },
  {
   "cell_type": "markdown",
   "metadata": {},
   "source": []
  },
  {
   "cell_type": "code",
   "execution_count": 57,
   "metadata": {},
   "outputs": [
    {
     "data": {
      "text/plain": [
       "58"
      ]
     },
     "execution_count": 57,
     "metadata": {},
     "output_type": "execute_result"
    }
   ],
   "source": [
    "k = []\n",
    "for i, j in a.iterrows():\n",
    "    if (j['finish_position1'] > j['finish_position']):\n",
    "        k.append(j['horse_id'])\n",
    "len(k)"
   ]
  },
  {
   "cell_type": "code",
   "execution_count": 58,
   "metadata": {},
   "outputs": [
    {
     "data": {
      "text/plain": [
       "20"
      ]
     },
     "execution_count": 58,
     "metadata": {},
     "output_type": "execute_result"
    }
   ],
   "source": [
    "l = []\n",
    "for i, j in a.iterrows():\n",
    "    if (j['finish_position2'] > j['finish_position1'] > j['finish_position']):\n",
    "        l.append(j['horse_id'])\n",
    "len(l)"
   ]
  },
  {
   "cell_type": "markdown",
   "metadata": {},
   "source": [
    "# from the above observation we can say that,\n",
    "- There are 155 horse which participated all last 3 races with race class = 5 and condition = 'C'.\n",
    "- Out of which only 20 horses has shown the improvement in final position i.e. they have better achieve better final position as compared to previous race\n",
    "- Also if we compare only for last two race then there are 58 horses which has imporvement in their final position"
   ]
  },
  {
   "cell_type": "code",
   "execution_count": 59,
   "metadata": {},
   "outputs": [
    {
     "name": "stdout",
     "output_type": "stream",
     "text": [
      "12.903225806451612\n"
     ]
    }
   ],
   "source": [
    "print((20/155)*100)"
   ]
  },
  {
   "cell_type": "markdown",
   "metadata": {},
   "source": [
    "+ <font color=red>We have compared data based on major class and condition value and obeserve that around 8-12 % horses has shown improvement with respect to final position.</font>"
   ]
  },
  {
   "cell_type": "markdown",
   "metadata": {},
   "source": [
    "# <font color= Red>Same result we can see if compared all horses irrespective of race class and condition of race</font>"
   ]
  },
  {
   "cell_type": "code",
   "execution_count": 60,
   "metadata": {},
   "outputs": [
    {
     "data": {
      "text/plain": [
       "(3823, 19)"
      ]
     },
     "execution_count": 60,
     "metadata": {},
     "output_type": "execute_result"
    }
   ],
   "source": [
    "ndf.shape"
   ]
  },
  {
   "cell_type": "code",
   "execution_count": 61,
   "metadata": {},
   "outputs": [
    {
     "data": {
      "text/plain": [
       "1392"
      ]
     },
     "execution_count": 61,
     "metadata": {},
     "output_type": "execute_result"
    }
   ],
   "source": [
    "k = []\n",
    "for i, j in ndf.iterrows():\n",
    "    if (j['finish_position1'] > j['finish_position']):\n",
    "        k.append(j['horse_id'])\n",
    "len(k)"
   ]
  },
  {
   "cell_type": "code",
   "execution_count": 62,
   "metadata": {},
   "outputs": [
    {
     "data": {
      "text/plain": [
       "350"
      ]
     },
     "execution_count": 62,
     "metadata": {},
     "output_type": "execute_result"
    }
   ],
   "source": [
    "l = []\n",
    "for i, j in ndf.iterrows():\n",
    "    if (j['finish_position2'] > j['finish_position1'] > j['finish_position']):\n",
    "        l.append(j['horse_id'])\n",
    "len(l)"
   ]
  },
  {
   "cell_type": "markdown",
   "metadata": {},
   "source": [
    "# Obeservation for entire dataset,\n",
    "- There are 2823 horse which participated all last 3 races.\n",
    "- Out of which 350 horses has shown the improvement in final position i.e. they have better achieve better final position as compared to previous race\n",
    "- Also if we compare only for last two race then there are 1392 horses which has imporvement in their final position"
   ]
  },
  {
   "cell_type": "code",
   "execution_count": 63,
   "metadata": {
    "scrolled": true
   },
   "outputs": [
    {
     "name": "stdout",
     "output_type": "stream",
     "text": [
      "9.155113784985613\n"
     ]
    }
   ],
   "source": [
    "print((350/3823)*100)"
   ]
  },
  {
   "cell_type": "code",
   "execution_count": 64,
   "metadata": {},
   "outputs": [
    {
     "name": "stdout",
     "output_type": "stream",
     "text": [
      "36.41119539628564\n"
     ]
    }
   ],
   "source": [
    "print((1392/3823)*100)"
   ]
  },
  {
   "cell_type": "code",
   "execution_count": 65,
   "metadata": {},
   "outputs": [
    {
     "data": {
      "text/plain": [
       "Index(['race_id', 'horse_no', 'horse_id', 'result', 'won', 'lengths_behind',\n",
       "       'horse_age', 'horse_country', 'horse_type', 'horse_rating',\n",
       "       'horse_gear', 'declared_weight', 'actual_weight', 'draw',\n",
       "       'position_sec1', 'position_sec2', 'position_sec3', 'position_sec4',\n",
       "       'position_sec5', 'position_sec6', 'behind_sec1', 'behind_sec2',\n",
       "       'behind_sec3', 'behind_sec4', 'behind_sec5', 'behind_sec6', 'time1_x',\n",
       "       'time2_x', 'time3_x', 'time4_x', 'time5_x', 'time6_x', 'finish_time',\n",
       "       'win_odds', 'place_odds', 'trainer_id', 'jockey_id', 'date', 'venue',\n",
       "       'race_no', 'config', 'surface', 'distance', 'going', 'horse_ratings',\n",
       "       'prize', 'race_class', 'sec_time1', 'sec_time2', 'sec_time3',\n",
       "       'sec_time4', 'sec_time5', 'sec_time6', 'sec_time7', 'time1_y',\n",
       "       'time2_y', 'time3_y', 'time4_y', 'time5_y', 'time6_y', 'time7',\n",
       "       'place_combination1', 'place_combination2', 'place_combination3',\n",
       "       'place_combination4', 'place_dividend1', 'place_dividend2',\n",
       "       'place_dividend3', 'place_dividend4', 'win_combination1',\n",
       "       'win_dividend1', 'win_combination2', 'win_dividend2'],\n",
       "      dtype='object')"
      ]
     },
     "execution_count": 65,
     "metadata": {},
     "output_type": "execute_result"
    }
   ],
   "source": [
    "last_race.columns"
   ]
  },
  {
   "cell_type": "code",
   "execution_count": null,
   "metadata": {},
   "outputs": [],
   "source": []
  },
  {
   "cell_type": "markdown",
   "metadata": {},
   "source": [
    "## Below are the details for each horse participated in race with same race class"
   ]
  },
  {
   "cell_type": "code",
   "execution_count": 66,
   "metadata": {},
   "outputs": [],
   "source": [
    "a = ndf[(ndf['class'] == ndf['class1']) & (ndf['class'] == ndf['class2'])][['horse_id','finish_position','finish_position1','finish_position2']]"
   ]
  },
  {
   "cell_type": "code",
   "execution_count": 67,
   "metadata": {},
   "outputs": [
    {
     "data": {
      "text/plain": [
       "(2818, 4)"
      ]
     },
     "execution_count": 67,
     "metadata": {},
     "output_type": "execute_result"
    }
   ],
   "source": [
    "a.shape"
   ]
  },
  {
   "cell_type": "code",
   "execution_count": 68,
   "metadata": {},
   "outputs": [
    {
     "data": {
      "text/html": [
       "<div>\n",
       "<style scoped>\n",
       "    .dataframe tbody tr th:only-of-type {\n",
       "        vertical-align: middle;\n",
       "    }\n",
       "\n",
       "    .dataframe tbody tr th {\n",
       "        vertical-align: top;\n",
       "    }\n",
       "\n",
       "    .dataframe thead th {\n",
       "        text-align: right;\n",
       "    }\n",
       "</style>\n",
       "<table border=\"1\" class=\"dataframe\">\n",
       "  <thead>\n",
       "    <tr style=\"text-align: right;\">\n",
       "      <th></th>\n",
       "      <th>horse_id</th>\n",
       "      <th>finish_position</th>\n",
       "      <th>finish_position1</th>\n",
       "      <th>finish_position2</th>\n",
       "    </tr>\n",
       "  </thead>\n",
       "  <tbody>\n",
       "    <tr>\n",
       "      <th>0</th>\n",
       "      <td>3917</td>\n",
       "      <td>12</td>\n",
       "      <td>7</td>\n",
       "      <td>8</td>\n",
       "    </tr>\n",
       "    <tr>\n",
       "      <th>1</th>\n",
       "      <td>2157</td>\n",
       "      <td>8</td>\n",
       "      <td>9</td>\n",
       "      <td>11</td>\n",
       "    </tr>\n",
       "    <tr>\n",
       "      <th>3</th>\n",
       "      <td>1853</td>\n",
       "      <td>14</td>\n",
       "      <td>11</td>\n",
       "      <td>6</td>\n",
       "    </tr>\n",
       "    <tr>\n",
       "      <th>4</th>\n",
       "      <td>2796</td>\n",
       "      <td>3</td>\n",
       "      <td>2</td>\n",
       "      <td>2</td>\n",
       "    </tr>\n",
       "    <tr>\n",
       "      <th>6</th>\n",
       "      <td>911</td>\n",
       "      <td>11</td>\n",
       "      <td>10</td>\n",
       "      <td>10</td>\n",
       "    </tr>\n",
       "  </tbody>\n",
       "</table>\n",
       "</div>"
      ],
      "text/plain": [
       "   horse_id  finish_position finish_position1 finish_position2\n",
       "0      3917               12                7                8\n",
       "1      2157                8                9               11\n",
       "3      1853               14               11                6\n",
       "4      2796                3                2                2\n",
       "6       911               11               10               10"
      ]
     },
     "execution_count": 68,
     "metadata": {},
     "output_type": "execute_result"
    }
   ],
   "source": [
    "a.head()"
   ]
  },
  {
   "cell_type": "code",
   "execution_count": 69,
   "metadata": {},
   "outputs": [
    {
     "data": {
      "text/plain": [
       "1042"
      ]
     },
     "execution_count": 69,
     "metadata": {},
     "output_type": "execute_result"
    }
   ],
   "source": [
    "k = []\n",
    "for i, j in a.iterrows():\n",
    "    if (j['finish_position1'] > j['finish_position']):\n",
    "        k.append(j['horse_id'])\n",
    "len(k)"
   ]
  },
  {
   "cell_type": "code",
   "execution_count": 70,
   "metadata": {},
   "outputs": [
    {
     "data": {
      "text/plain": [
       "272"
      ]
     },
     "execution_count": 70,
     "metadata": {},
     "output_type": "execute_result"
    }
   ],
   "source": [
    "l = []\n",
    "for i, j in a.iterrows():\n",
    "    if (j['finish_position2'] > j['finish_position1'] > j['finish_position']):\n",
    "        l.append(j['horse_id'])\n",
    "len(l)"
   ]
  },
  {
   "cell_type": "markdown",
   "metadata": {},
   "source": [
    "# from the above observation we can say that,\n",
    "- There are `2818` horse which participated all last 3 races with race class.\n",
    "- Out of which only `272` horses has shown the improvement in final position i.e. they have achieve better final position as compared to previous race\n",
    "- Also if we compare only for last two race then there are `1042` horses which has imporvement in their final position"
   ]
  },
  {
   "cell_type": "code",
   "execution_count": 71,
   "metadata": {},
   "outputs": [
    {
     "name": "stdout",
     "output_type": "stream",
     "text": [
      "9.65223562810504\n"
     ]
    }
   ],
   "source": [
    "print((272/2818)*100)"
   ]
  },
  {
   "cell_type": "code",
   "execution_count": null,
   "metadata": {},
   "outputs": [],
   "source": []
  },
  {
   "cell_type": "markdown",
   "metadata": {},
   "source": [
    "## Below are the details for each horse participated in race with condition."
   ]
  },
  {
   "cell_type": "code",
   "execution_count": 72,
   "metadata": {},
   "outputs": [],
   "source": [
    "a = ndf[(ndf['condition'] == ndf['condition1']) & (ndf['condition1'] == ndf['condition2'])][['horse_id','finish_position','finish_position1','finish_position2']]"
   ]
  },
  {
   "cell_type": "code",
   "execution_count": 73,
   "metadata": {},
   "outputs": [
    {
     "data": {
      "text/plain": [
       "(305, 4)"
      ]
     },
     "execution_count": 73,
     "metadata": {},
     "output_type": "execute_result"
    }
   ],
   "source": [
    "a.shape"
   ]
  },
  {
   "cell_type": "code",
   "execution_count": 74,
   "metadata": {},
   "outputs": [
    {
     "data": {
      "text/html": [
       "<div>\n",
       "<style scoped>\n",
       "    .dataframe tbody tr th:only-of-type {\n",
       "        vertical-align: middle;\n",
       "    }\n",
       "\n",
       "    .dataframe tbody tr th {\n",
       "        vertical-align: top;\n",
       "    }\n",
       "\n",
       "    .dataframe thead th {\n",
       "        text-align: right;\n",
       "    }\n",
       "</style>\n",
       "<table border=\"1\" class=\"dataframe\">\n",
       "  <thead>\n",
       "    <tr style=\"text-align: right;\">\n",
       "      <th></th>\n",
       "      <th>horse_id</th>\n",
       "      <th>finish_position</th>\n",
       "      <th>finish_position1</th>\n",
       "      <th>finish_position2</th>\n",
       "    </tr>\n",
       "  </thead>\n",
       "  <tbody>\n",
       "    <tr>\n",
       "      <th>12</th>\n",
       "      <td>727</td>\n",
       "      <td>12</td>\n",
       "      <td>9</td>\n",
       "      <td>11</td>\n",
       "    </tr>\n",
       "    <tr>\n",
       "      <th>20</th>\n",
       "      <td>1926</td>\n",
       "      <td>2</td>\n",
       "      <td>11</td>\n",
       "      <td>4</td>\n",
       "    </tr>\n",
       "    <tr>\n",
       "      <th>60</th>\n",
       "      <td>3301</td>\n",
       "      <td>14</td>\n",
       "      <td>12</td>\n",
       "      <td>6</td>\n",
       "    </tr>\n",
       "    <tr>\n",
       "      <th>64</th>\n",
       "      <td>3105</td>\n",
       "      <td>9</td>\n",
       "      <td>13</td>\n",
       "      <td>8</td>\n",
       "    </tr>\n",
       "    <tr>\n",
       "      <th>90</th>\n",
       "      <td>3440</td>\n",
       "      <td>8</td>\n",
       "      <td>9</td>\n",
       "      <td>7</td>\n",
       "    </tr>\n",
       "  </tbody>\n",
       "</table>\n",
       "</div>"
      ],
      "text/plain": [
       "    horse_id  finish_position finish_position1 finish_position2\n",
       "12       727               12                9               11\n",
       "20      1926                2               11                4\n",
       "60      3301               14               12                6\n",
       "64      3105                9               13                8\n",
       "90      3440                8                9                7"
      ]
     },
     "execution_count": 74,
     "metadata": {},
     "output_type": "execute_result"
    }
   ],
   "source": [
    "a.head()"
   ]
  },
  {
   "cell_type": "code",
   "execution_count": 75,
   "metadata": {},
   "outputs": [
    {
     "data": {
      "text/plain": [
       "104"
      ]
     },
     "execution_count": 75,
     "metadata": {},
     "output_type": "execute_result"
    }
   ],
   "source": [
    "k = []\n",
    "for i, j in a.iterrows():\n",
    "    if (j['finish_position1'] > j['finish_position']):\n",
    "        k.append(j['horse_id'])\n",
    "len(k)"
   ]
  },
  {
   "cell_type": "code",
   "execution_count": 76,
   "metadata": {},
   "outputs": [
    {
     "data": {
      "text/plain": [
       "23"
      ]
     },
     "execution_count": 76,
     "metadata": {},
     "output_type": "execute_result"
    }
   ],
   "source": [
    "l = []\n",
    "for i, j in a.iterrows():\n",
    "    if (j['finish_position2'] > j['finish_position1'] > j['finish_position']):\n",
    "        l.append(j['horse_id'])\n",
    "len(l)"
   ]
  },
  {
   "cell_type": "markdown",
   "metadata": {},
   "source": [
    "# from the above observation we can say that,\n",
    "- There are `305` horse which participated all last 3 races with same condition.\n",
    "- Out of which only `23` horses has shown the improvement in final position i.e. they have achieve better final position as compared to previous race\n",
    "- Also if we compare only for last two race then there are `104` horses which has imporvement in their final position"
   ]
  },
  {
   "cell_type": "code",
   "execution_count": 77,
   "metadata": {},
   "outputs": [
    {
     "name": "stdout",
     "output_type": "stream",
     "text": [
      "7.540983606557377\n"
     ]
    }
   ],
   "source": [
    "print((23/305)*100)"
   ]
  },
  {
   "cell_type": "code",
   "execution_count": null,
   "metadata": {},
   "outputs": [],
   "source": []
  },
  {
   "cell_type": "code",
   "execution_count": null,
   "metadata": {},
   "outputs": [],
   "source": []
  },
  {
   "cell_type": "code",
   "execution_count": null,
   "metadata": {},
   "outputs": [],
   "source": []
  }
 ],
 "metadata": {
  "kernelspec": {
   "display_name": "Python 3",
   "language": "python",
   "name": "python3"
  },
  "language_info": {
   "codemirror_mode": {
    "name": "ipython",
    "version": 3
   },
   "file_extension": ".py",
   "mimetype": "text/x-python",
   "name": "python",
   "nbconvert_exporter": "python",
   "pygments_lexer": "ipython3",
   "version": "3.7.3"
  }
 },
 "nbformat": 4,
 "nbformat_minor": 2
}
